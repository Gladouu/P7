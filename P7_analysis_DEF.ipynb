{
 "cells": [
  {
   "cell_type": "markdown",
   "id": "c844dd65",
   "metadata": {},
   "source": [
    "# Projet 7 : Effectuer une prédiction de revenus"
   ]
  },
  {
   "cell_type": "markdown",
   "id": "479217d9",
   "metadata": {},
   "source": [
    "## Scénario"
   ]
  },
  {
   "cell_type": "markdown",
   "id": "0996401e",
   "metadata": {},
   "source": [
    "Vous êtes employé dans une banque, présente dans de nombreux pays à travers le monde. Celle-ci souhaite cibler de nouveaux clients potentiels, plus particulièrement les jeunes en âge d'ouvrir leur tout premier compte bancaire.\n",
    "Cependant, elle souhaite cibler les prospects les plus susceptibles d'avoir, plus tard dans leur vie, de hauts revenus.\n",
    "\n",
    "\n",
    "L'équipe dans laquelle vous travaillez a donc reçu pour mission de créer un modèle permettant de déterminer le revenu potentiel d'une personne.\n",
    "Très bien.\n",
    "\n",
    "\n",
    "\"Quelles informations avons-nous ?\" demandez-vous à votre supérieur, qui vous répond : \"À vrai dire... quasiment aucune : uniquement le revenu des parents, car nous allons cibler les enfants de nos clients actuels, ainsi que le pays où ils habitent. C'est tout ! Ah oui, une dernière chose : ce modèle doit être valable pour la plupart des pays du monde. Je vous laisse méditer là-dessus… Bon courage !\"\n",
    "\n",
    "\n",
    "Avec aussi peu de données disponibles, cela semble être un sacré challenge !\n",
    "\n",
    "Ainsi, vous proposez une régression linéaire avec 3 variables :\n",
    "\n",
    "- le revenu des parents ;\n",
    "- le revenu moyen du pays dans lequel habite le prospect ;\n",
    "- l'indice de Gini calculé sur les revenus des habitants du pays en question. \n",
    "\n",
    "\n",
    "Ce projet ne traite que de la construction et de l'interprétation du modèle. Vous n'irez pas jusqu'à la phase de prédiction. "
   ]
  },
  {
   "cell_type": "markdown",
   "id": "412512d7",
   "metadata": {},
   "source": [
    "## Les données"
   ]
  },
  {
   "cell_type": "markdown",
   "id": "9f82677c",
   "metadata": {},
   "source": [
    "Ce fichier contient les données de la [World Income Distribution](https://s3-eu-west-1.amazonaws.com/static.oc-static.com/prod/courses/files/parcours-data-analyst/data-projet7.csv), datée de 2008.\n",
    "Cette base de données est composée principalement d'études réalisées au niveau national pour bon nombre de pays, et contient les distributions de revenus des populations concernées.\n",
    "Vous téléchargerez également les indices de Gini estimés par la Banque mondiale, disponibles à [cette adresse](http://data.worldbank.org/indicator/SI.POV.GINI). Libre à vous de trouver également d'autres sources, ou de recalculer les indices de Gini à partir de la World Income Distribution.\n",
    "Vous aurez également besoin de récupérer le nombre d'habitants de chaque pays présent dans votre base."
   ]
  },
  {
   "cell_type": "markdown",
   "id": "f9922144",
   "metadata": {},
   "source": [
    "## Vos missions"
   ]
  },
  {
   "cell_type": "markdown",
   "id": "58bc9081",
   "metadata": {},
   "source": [
    "### Mission 1 "
   ]
  },
  {
   "cell_type": "markdown",
   "id": "0198cc23",
   "metadata": {},
   "source": [
    "Résumez les données utilisées :\n",
    "\n",
    "- année(s) des données utilisées ;\n",
    "- nombre de pays présents ;\n",
    "- population couverte par l'analyse (en termes de pourcentage de la population mondiale).\n",
    "\n",
    "Les données de la World Income Distribution présentent pour chaque pays les quantiles de la distribution des revenus de leur population respective.\n",
    "\n",
    "De quel type de quantiles s'agit-il (quartiles, déciles, etc.) ?\n",
    "Échantillonner une population en utilisant des quantiles est-il selon vous une bonne méthode ? Pourquoi ?"
   ]
  },
  {
   "cell_type": "markdown",
   "id": "dc826cc7",
   "metadata": {},
   "source": [
    "<div class=\"admonition note alert alert-info\" style=\"color:#4cb2ff\">\n",
    "<p><b>Note : </b> <br><br>\n",
    " Nous appellerons ici chaque quantile une classe de revenu.\n",
    "Ainsi, la valeur de la colonne income pour un quantile donné peut être vue comme le revenu moyen des personnes appartenant à la classe de revenu correspondante à ce quantile. </p></div>"
   ]
  },
  {
   "cell_type": "markdown",
   "id": "606d3d81",
   "metadata": {},
   "source": [
    "L'unité utilisée dans la colonne income de la world income distribution est le $PPP. Cette unité est calculée par la Banque mondiale, selon la méthode Eltöte-Köves-Szulc. Après vous être documenté, vous expliquerez à votre mentor très brièvement à quoi correspond cette unité et pourquoi elle est pertinente pour une comparaison de pays différents (Il n'est pas nécessaire de donner cette explication lors de la soutenance)."
   ]
  },
  {
   "cell_type": "markdown",
   "id": "8075f6a3",
   "metadata": {},
   "source": [
    "### Mission 2"
   ]
  },
  {
   "cell_type": "markdown",
   "id": "37a73831",
   "metadata": {},
   "source": [
    "- Montrez la diversité des pays en termes de distribution de revenus à l'aide d'un graphique. Celui-ci représentera le revenu moyen (axe des ordonnées, sur une échelle logarithmique) de chacune des classes de revenus (axe des abscisses) pour 5 à 10 pays que vous aurez choisis pour montrer la diversité des cas.\n",
    "<br><br>\n",
    "- Représentez la courbe de Lorenz de chacun des pays choisis.\n",
    "<br><br>\n",
    "- Pour chacun de ces pays, représentez l'évolution de l'indice de Gini au fil des ans.\n",
    "<br><br>\n",
    "- Classez les pays par indice de Gini. Donnez la moyenne, les 5 pays ayant l'indice de Gini le plus élevé et les 5 pays ayant l'indice de Gini le plus faible. En quelle position se trouve la France ?"
   ]
  },
  {
   "cell_type": "markdown",
   "id": "d1b74895",
   "metadata": {},
   "source": [
    "### Mission 3"
   ]
  },
  {
   "cell_type": "markdown",
   "id": "e034baee",
   "metadata": {},
   "source": [
    "<p>\n",
    "Dans l'état actuel, nous avons à disposition deux des trois variables explicatives souhaitées :<br><br>\n",
    "    - \\(m_{j}\\) le revenu moyen du pays  \\(j\\) <br>\n",
    "    - \\(G_{j}\\) l'indice de Gini du pays \\(j\\) <br><br>\n",
    "Il nous manque donc, pour un individu  \\(i\\) , la classe de revenu \\(c_{i,parent}\\) de ses parents.\n",
    "</p>\n",
    "\n",
    "<div class=\"admonition note alert alert-info\" style=\"color:#4cb2ff\">\n",
    "<p>Nous supposons ici que l'on associe à chaque individu \\(i\\) une unique classe \\(c_{i,parent}\\) ; quel que soit le nombre de parents de \\(i\\).\n",
    "</p></div>\n",
    "                                                              \n",
    "<p>\n",
    "Nous allons donc simuler cette information grâce à un coefficient \\(\\rho_{j}\\) (propre à chaque pays \\(j\\) ), mesurant une corrélation entre le revenu de l'individu \\(i\\) et le revenu de ses parents. Ce coefficient sera ici appelé coefficient d'élasticité ; il mesure la mobilité intergénérationnelle du revenu.\n",
    "</p>    \n",
    "<br>                                                          \n",
    "<div class=\"admonition note alert alert-info\" style=\"color:#4cb2ff\">\n",
    "Pour plus d'informations sur le calcul du coefficient d'élasticité, consulter ce <a href=\"https://s3-eu-west-1.amazonaws.com/static.oc-static.com/prod/courses/files/parcours-data-analyst/2011-measuring-intergenerational-income-mobility-art.pdf\">document</a>, notamment l'équation 1 de la page 8. Ce coefficient est déterminé par une régression linéaire simple dans laquelle le logarithme du revenu de l'enfant \\(Y_{child}\\) est une fonction du logarithme du revenu des parents \\(Y_{parent}\\) :\n",
    "\\[ln(Y_{child}) = \\alpha + \\rho_j\\ ln(Y_{parent}) + \\epsilon\\]  \n",
    "</div>\n",
    "\n",
    "<p><br>\n",
    "Pour obtenir le coefficient d'élasticité, deux possibilités s'offrent à vous : <br>\n",
    "<br>    \n",
    "<li>Vous baser sur ces coefficients donnés par la Banque mondiale, dans GDIM dataset : <a href=\"http://www.worldbank.org/en/topic/poverty/brief/what-is-the-global-database-on-intergenerational-mobility-gdim\"> dataset</a>. Le coefficient d'élasticité est donné pour certains pays, sous le nom d'IGE Income (relative IGM in income). </li><br>\n",
    "<li>Vous baser sur des estimations provenant de multiples études, extrapolées à différentes régions du monde :  elles se trouvent dans le fichier <a href=\"https://s3-eu-west-1.amazonaws.com/static.oc-static.com/prod/courses/files/parcours-data-analyst/projet_7.zip\">elasticity.txt</a>.</li><br></p>\n",
    " \n",
    "<p>\n",
    "Attention, ces données sont parfois anciennes. <br>\n",
    "Il est aussi possible de combiner ces deux approches. <br>\n",
    "Pour chaque pays, nous allons utiliser une génération aléatoire de la classe de revenu des parents, à partir de ces seules deux informations : \n",
    "\\(\\rho_j\\) la classe de revenu de l'enfant  \\(c_{i,child}\\).\n",
    "</p>\n",
    "<br> \n",
    "\n",
    "<div class=\"alert alert-block alert-warning\">\n",
    "Attention à bien utiliser la classe de revenu de l'enfant (qui est un nombre compris entre 1 et 100 si vous utilisez 100 quantiles), plutôt que son revenu PPP. De même, on ne cherche pas à générer le revenu des parents, mais la classe de revenu des parents \\(c_{i,parent}\\).\n",
    "</div> \n",
    "\n",
    "<p>\n",
    "Voici le protocole de génération pour un pays \\(j\\) donné, qui se base sur l'équation donnée ci dessus : </p>\n",
    "<br> \n",
    "<div class=\"admonition note alert alert-info\" style=\"color:#4cb2ff\">\n",
    "Un exemple de code permettant de réaliser les opérations 1 à 6 est donné tout en bas. Libre à vous de l'utiliser. Notamment, la fonction  proba_cond  vous donnera les probabilités \\(P(c_{i,parent} \\ | \\ c_{i,child,} \\ \\rho_{j=0.9})\\). \n",
    "</div>\n",
    "    \n",
    "<p><ol>\n",
    "<li>Générez un grand nombre \\(n\\) de réalisations d'une variable que nous appellerons  \\(ln(Y_{parent})\\) selon une loi normale. Le choix de la moyenne et de l'écart type n'auront pas d'incidence sur le résultat final. \\(n\\) doit être supérieur à 1000 fois le nombre de quantiles.</li>\n",
    "<br>    \n",
    "<li>Générez \\(n\\) réalisations du terme d'erreur \\(\\epsilon\\) selon une loi normale de moyenne 0 et d'écart type 1.</li>\n",
    "<li>Pour une valeur donnée de \\(\\rho_j\\) (par exemple 0.9), calculez \\(y_{child} = e^{\\alpha+\\rho_jln(y_{parent})+\\epsilon}\\) . Le choix de \\( \\alpha\\) n'a aucune incidence sur le résultat final et peut être supprimé. À ce stade, \\(y_{child}\\) contient des valeurs dont l'ordre de grandeur ne reflète pas la réalité, mais cela n'a pas d'influence pour la suite.</li>\n",
    "<br>   \n",
    "<li>Pour chacun des \\(n\\) individus générés, calculez la classe de revenu  \\(c_{i,child}\\) ainsi que la classe de revenu de ses parents \\(c_{i,parent}\\) , à partir de \\(y_{child}\\) et \\(y_{parent}\\).</li>\n",
    "<br>   \n",
    "<li>À partir de cette dernière information, estimez pour chaque  \\(c_{i,child}\\) la distribution conditionnelle de \\(c_{i,parent}\\) . Par exemple, si vous observez 6 individus ayant à la fois  \\(c_{i,child} = 5\\) et \\(c_{i,parent} = 8\\) , et que 200 individus sur 20000 ont \\( c_{i,child} = 5\\) , alors la probabilité d'avoir \\( c_{i,parent} = 8\\) sachant  \\(c_{i,child} = 5\\) et sachant \\(\\rho_j=0.9\\) sera estimée à 6/200 (On note cette probabilité comme ceci : \\(P(c_{i,parent}=8|c_{i,child}=5,\\rho_j=0.9) = 0.03\\)). Si votre population est divisée en \\(c\\) classes de revenu, vous devriez alors avoir \\(c^2\\) estimations de ces probabilités conditionnelles, pour chaque pays.</li>\n",
    "<br>   \n",
    "<li>Optionnellement et pour vérifier la cohérence de votre code, vous pouvez créer un graphique représentant ces distributions conditionnelles. Voici 2 exemples pour une population segmentée en 10 classes, pour 2 valeurs de \\(\\rho_j\\) : l'une traduisant une forte mobilité (0.1) et l'autre une très faible mobilité (0.9) : </li> \n",
    "\n",
    "<img src=\"2.png\" width=\"400\" height=\"400\">\n",
    "<img src=\"1.png\" width=\"400\" height=\"400\">\n",
    "<br>\n",
    "<li>Éventuellement et pour éviter toute confusion, effacez les individus que vous venez de générer (nous n'en avons plus besoin), et ne gardez que les distributions conditionnelles.</li>\n",
    "<br>    \n",
    "<li>Nous allons maintenant travailler sur un nouvel échantillon. Celui-ci sera créé à partir de la WID. Pour chaque individu de la World Income Distribution, créez-en 499 \"clones\". La taille de votre nouvel échantillon sera donc 500 fois plus grand que celui de la World Income Distribution.</li>\n",
    "<br>\n",
    "<li>Pour chaque \\(c_{i,child}\\) et chaque pays, il y a maintenant 500 individus. Vous attribuerez aux 500 individus leurs classes \\( c_{i,parent}\\) conformément aux distributions trouvées précédemment. Par exemple, si \\(P(c_{i,parent}=8|c_{i,child}=5,\\rho_j=0.9) = 0.03\\) , alors vous assignerez la classe \\(c_{i,parent} = 8\\) à 15 des 500 individus du pays \\( j\\) ayant \\(c_{i,child}=5\\) , car 500*0.03 = 15.</li>\n",
    "<br>\n",
    "<li>Éventuellement et pour éviter toute confusion, effacez la variable \\(c_{i,child}\\)  : nous n'en avons pas besoin pour la mission 4.</li>\n",
    "<br>\n",
    "<li>Assurez-vous que votre nouvel échantillon contiennent bien les variables initialement présentes dans la World Income Distribution : \\(m_j\\) et \\(G_j\\) .</li>\n",
    "</ol> \n",
    "<br>\n",
    "Utilisez ce nouvel échantillon pour la mission 4.</p>"
   ]
  },
  {
   "cell_type": "markdown",
   "id": "848d323b",
   "metadata": {},
   "source": [
    "### Mission 4"
   ]
  },
  {
   "cell_type": "markdown",
   "id": "012d39ca",
   "metadata": {},
   "source": [
    "Pour cette mission 4, nous chercherons à expliquer le revenu des individus en fonction de plusieurs variables explicatives : le pays de l'individu, l'indice de Gini de ce pays, la classe de revenus des parents, etc.\n",
    "\n",
    "Appliquez une ANOVA sur vos données, en n’incluant comme variable explicative que le pays de l’individu. Analysez la performance du modèle.\n",
    "<br><br>\n",
    "<div class=\"alert alert-block alert-warning\">  \n",
    "Pour chacune des régressions suivantes, vous testerez 2 versions : l'une en exprimant le revenu moyen du pays et les revenus (parents & enfants) en logarithme (ln), l'autre en les laissant tels quels. Vous choisirez la version la plus performante pour répondre aux question.                                                   \n",
    "</div>  \n",
    "\n",
    "Appliquez une régression linéaire sur vos données, en incluant comme variables explicatives uniquement le revenu moyen du pays de l’individu et l’indice de Gini du pays de l’individu. Quel est le pourcentage de variance expliquée par votre modèle ?\n",
    "                                                            \n",
    "Selon ce modèle, donnez la décomposition de variance totale expliquée par :\n",
    "                                                            \n",
    "- le pays de naissance (ie. le revenu moyen et l’indice de Gini) ;\n",
    "- les autres facteurs non considérés dans le modèle (efforts, chance, etc.).\n",
    "                                                            \n",
    "Améliorez le modèle précédent en incluant maintenant la classe de revenu des parents. Quel est le pourcentage de variance expliquée par ce nouveau modèle ?\n",
    "                                                            \n",
    "En observant le coefficient de régression associé à l’indice de Gini, peut-on affirmer que le fait de vivre dans un pays plus inégalitaire favorise plus de personnes qu’il n’en défavorise ?\n",
    "                                                            \n",
    "Selon ce dernier modèle, donnez la décomposition de variance totale expliquée par :\n",
    "- le pays de naissance et le revenu des parents\n",
    "- les autres facteurs non considérés dans le modèle (efforts, chance, etc.). "
   ]
  },
  {
   "cell_type": "markdown",
   "id": "e0ea7141",
   "metadata": {},
   "source": [
    "# Environnement"
   ]
  },
  {
   "cell_type": "code",
   "execution_count": 1,
   "id": "eb3c7ea5",
   "metadata": {},
   "outputs": [],
   "source": [
    "import numpy as np\n",
    "import pandas as pd\n",
    "import matplotlib.pyplot as plt\n",
    "import seaborn as sns\n",
    "import scipy.stats as st\n",
    "import pingouin as pg\n",
    "import statsmodels.formula.api as smf\n",
    "\n",
    "#import statsmodels.api as sm\n",
    "#from statsmodels.stats.outliers_influence import variance_inflation_factor"
   ]
  },
  {
   "cell_type": "code",
   "execution_count": 2,
   "id": "cd1c9677",
   "metadata": {},
   "outputs": [
    {
     "ename": "FileNotFoundError",
     "evalue": "[Errno 2] No such file or directory: '../P7/P7_00_datasets/data-projet7.csv'",
     "output_type": "error",
     "traceback": [
      "\u001b[0;31m---------------------------------------------------------------------------\u001b[0m",
      "\u001b[0;31mFileNotFoundError\u001b[0m                         Traceback (most recent call last)",
      "\u001b[0;32m<ipython-input-2-d6d50fcd379f>\u001b[0m in \u001b[0;36m<module>\u001b[0;34m\u001b[0m\n\u001b[1;32m      1\u001b[0m \u001b[0mpath\u001b[0m \u001b[0;34m=\u001b[0m \u001b[0;34m'../P7/P7_00_datasets/'\u001b[0m\u001b[0;34m\u001b[0m\u001b[0;34m\u001b[0m\u001b[0m\n\u001b[1;32m      2\u001b[0m \u001b[0;34m\u001b[0m\u001b[0m\n\u001b[0;32m----> 3\u001b[0;31m \u001b[0mdf\u001b[0m \u001b[0;34m=\u001b[0m \u001b[0mpd\u001b[0m\u001b[0;34m.\u001b[0m\u001b[0mread_csv\u001b[0m\u001b[0;34m(\u001b[0m\u001b[0mpath\u001b[0m \u001b[0;34m+\u001b[0m \u001b[0;34m'data-projet7.csv'\u001b[0m\u001b[0;34m,\u001b[0m \u001b[0mdecimal\u001b[0m\u001b[0;34m=\u001b[0m\u001b[0;34m','\u001b[0m\u001b[0;34m)\u001b[0m\u001b[0;34m\u001b[0m\u001b[0;34m\u001b[0m\u001b[0m\n\u001b[0m",
      "\u001b[0;32m~/opt/anaconda3/lib/python3.8/site-packages/pandas/io/parsers.py\u001b[0m in \u001b[0;36mread_csv\u001b[0;34m(filepath_or_buffer, sep, delimiter, header, names, index_col, usecols, squeeze, prefix, mangle_dupe_cols, dtype, engine, converters, true_values, false_values, skipinitialspace, skiprows, skipfooter, nrows, na_values, keep_default_na, na_filter, verbose, skip_blank_lines, parse_dates, infer_datetime_format, keep_date_col, date_parser, dayfirst, cache_dates, iterator, chunksize, compression, thousands, decimal, lineterminator, quotechar, quoting, doublequote, escapechar, comment, encoding, dialect, error_bad_lines, warn_bad_lines, delim_whitespace, low_memory, memory_map, float_precision, storage_options)\u001b[0m\n\u001b[1;32m    608\u001b[0m     \u001b[0mkwds\u001b[0m\u001b[0;34m.\u001b[0m\u001b[0mupdate\u001b[0m\u001b[0;34m(\u001b[0m\u001b[0mkwds_defaults\u001b[0m\u001b[0;34m)\u001b[0m\u001b[0;34m\u001b[0m\u001b[0;34m\u001b[0m\u001b[0m\n\u001b[1;32m    609\u001b[0m \u001b[0;34m\u001b[0m\u001b[0m\n\u001b[0;32m--> 610\u001b[0;31m     \u001b[0;32mreturn\u001b[0m \u001b[0m_read\u001b[0m\u001b[0;34m(\u001b[0m\u001b[0mfilepath_or_buffer\u001b[0m\u001b[0;34m,\u001b[0m \u001b[0mkwds\u001b[0m\u001b[0;34m)\u001b[0m\u001b[0;34m\u001b[0m\u001b[0;34m\u001b[0m\u001b[0m\n\u001b[0m\u001b[1;32m    611\u001b[0m \u001b[0;34m\u001b[0m\u001b[0m\n\u001b[1;32m    612\u001b[0m \u001b[0;34m\u001b[0m\u001b[0m\n",
      "\u001b[0;32m~/opt/anaconda3/lib/python3.8/site-packages/pandas/io/parsers.py\u001b[0m in \u001b[0;36m_read\u001b[0;34m(filepath_or_buffer, kwds)\u001b[0m\n\u001b[1;32m    460\u001b[0m \u001b[0;34m\u001b[0m\u001b[0m\n\u001b[1;32m    461\u001b[0m     \u001b[0;31m# Create the parser.\u001b[0m\u001b[0;34m\u001b[0m\u001b[0;34m\u001b[0m\u001b[0;34m\u001b[0m\u001b[0m\n\u001b[0;32m--> 462\u001b[0;31m     \u001b[0mparser\u001b[0m \u001b[0;34m=\u001b[0m \u001b[0mTextFileReader\u001b[0m\u001b[0;34m(\u001b[0m\u001b[0mfilepath_or_buffer\u001b[0m\u001b[0;34m,\u001b[0m \u001b[0;34m**\u001b[0m\u001b[0mkwds\u001b[0m\u001b[0;34m)\u001b[0m\u001b[0;34m\u001b[0m\u001b[0;34m\u001b[0m\u001b[0m\n\u001b[0m\u001b[1;32m    463\u001b[0m \u001b[0;34m\u001b[0m\u001b[0m\n\u001b[1;32m    464\u001b[0m     \u001b[0;32mif\u001b[0m \u001b[0mchunksize\u001b[0m \u001b[0;32mor\u001b[0m \u001b[0miterator\u001b[0m\u001b[0;34m:\u001b[0m\u001b[0;34m\u001b[0m\u001b[0;34m\u001b[0m\u001b[0m\n",
      "\u001b[0;32m~/opt/anaconda3/lib/python3.8/site-packages/pandas/io/parsers.py\u001b[0m in \u001b[0;36m__init__\u001b[0;34m(self, f, engine, **kwds)\u001b[0m\n\u001b[1;32m    817\u001b[0m             \u001b[0mself\u001b[0m\u001b[0;34m.\u001b[0m\u001b[0moptions\u001b[0m\u001b[0;34m[\u001b[0m\u001b[0;34m\"has_index_names\"\u001b[0m\u001b[0;34m]\u001b[0m \u001b[0;34m=\u001b[0m \u001b[0mkwds\u001b[0m\u001b[0;34m[\u001b[0m\u001b[0;34m\"has_index_names\"\u001b[0m\u001b[0;34m]\u001b[0m\u001b[0;34m\u001b[0m\u001b[0;34m\u001b[0m\u001b[0m\n\u001b[1;32m    818\u001b[0m \u001b[0;34m\u001b[0m\u001b[0m\n\u001b[0;32m--> 819\u001b[0;31m         \u001b[0mself\u001b[0m\u001b[0;34m.\u001b[0m\u001b[0m_engine\u001b[0m \u001b[0;34m=\u001b[0m \u001b[0mself\u001b[0m\u001b[0;34m.\u001b[0m\u001b[0m_make_engine\u001b[0m\u001b[0;34m(\u001b[0m\u001b[0mself\u001b[0m\u001b[0;34m.\u001b[0m\u001b[0mengine\u001b[0m\u001b[0;34m)\u001b[0m\u001b[0;34m\u001b[0m\u001b[0;34m\u001b[0m\u001b[0m\n\u001b[0m\u001b[1;32m    820\u001b[0m \u001b[0;34m\u001b[0m\u001b[0m\n\u001b[1;32m    821\u001b[0m     \u001b[0;32mdef\u001b[0m \u001b[0mclose\u001b[0m\u001b[0;34m(\u001b[0m\u001b[0mself\u001b[0m\u001b[0;34m)\u001b[0m\u001b[0;34m:\u001b[0m\u001b[0;34m\u001b[0m\u001b[0;34m\u001b[0m\u001b[0m\n",
      "\u001b[0;32m~/opt/anaconda3/lib/python3.8/site-packages/pandas/io/parsers.py\u001b[0m in \u001b[0;36m_make_engine\u001b[0;34m(self, engine)\u001b[0m\n\u001b[1;32m   1048\u001b[0m             )\n\u001b[1;32m   1049\u001b[0m         \u001b[0;31m# error: Too many arguments for \"ParserBase\"\u001b[0m\u001b[0;34m\u001b[0m\u001b[0;34m\u001b[0m\u001b[0;34m\u001b[0m\u001b[0m\n\u001b[0;32m-> 1050\u001b[0;31m         \u001b[0;32mreturn\u001b[0m \u001b[0mmapping\u001b[0m\u001b[0;34m[\u001b[0m\u001b[0mengine\u001b[0m\u001b[0;34m]\u001b[0m\u001b[0;34m(\u001b[0m\u001b[0mself\u001b[0m\u001b[0;34m.\u001b[0m\u001b[0mf\u001b[0m\u001b[0;34m,\u001b[0m \u001b[0;34m**\u001b[0m\u001b[0mself\u001b[0m\u001b[0;34m.\u001b[0m\u001b[0moptions\u001b[0m\u001b[0;34m)\u001b[0m  \u001b[0;31m# type: ignore[call-arg]\u001b[0m\u001b[0;34m\u001b[0m\u001b[0;34m\u001b[0m\u001b[0m\n\u001b[0m\u001b[1;32m   1051\u001b[0m \u001b[0;34m\u001b[0m\u001b[0m\n\u001b[1;32m   1052\u001b[0m     \u001b[0;32mdef\u001b[0m \u001b[0m_failover_to_python\u001b[0m\u001b[0;34m(\u001b[0m\u001b[0mself\u001b[0m\u001b[0;34m)\u001b[0m\u001b[0;34m:\u001b[0m\u001b[0;34m\u001b[0m\u001b[0;34m\u001b[0m\u001b[0m\n",
      "\u001b[0;32m~/opt/anaconda3/lib/python3.8/site-packages/pandas/io/parsers.py\u001b[0m in \u001b[0;36m__init__\u001b[0;34m(self, src, **kwds)\u001b[0m\n\u001b[1;32m   1865\u001b[0m \u001b[0;34m\u001b[0m\u001b[0m\n\u001b[1;32m   1866\u001b[0m         \u001b[0;31m# open handles\u001b[0m\u001b[0;34m\u001b[0m\u001b[0;34m\u001b[0m\u001b[0;34m\u001b[0m\u001b[0m\n\u001b[0;32m-> 1867\u001b[0;31m         \u001b[0mself\u001b[0m\u001b[0;34m.\u001b[0m\u001b[0m_open_handles\u001b[0m\u001b[0;34m(\u001b[0m\u001b[0msrc\u001b[0m\u001b[0;34m,\u001b[0m \u001b[0mkwds\u001b[0m\u001b[0;34m)\u001b[0m\u001b[0;34m\u001b[0m\u001b[0;34m\u001b[0m\u001b[0m\n\u001b[0m\u001b[1;32m   1868\u001b[0m         \u001b[0;32massert\u001b[0m \u001b[0mself\u001b[0m\u001b[0;34m.\u001b[0m\u001b[0mhandles\u001b[0m \u001b[0;32mis\u001b[0m \u001b[0;32mnot\u001b[0m \u001b[0;32mNone\u001b[0m\u001b[0;34m\u001b[0m\u001b[0;34m\u001b[0m\u001b[0m\n\u001b[1;32m   1869\u001b[0m         \u001b[0;32mfor\u001b[0m \u001b[0mkey\u001b[0m \u001b[0;32min\u001b[0m \u001b[0;34m(\u001b[0m\u001b[0;34m\"storage_options\"\u001b[0m\u001b[0;34m,\u001b[0m \u001b[0;34m\"encoding\"\u001b[0m\u001b[0;34m,\u001b[0m \u001b[0;34m\"memory_map\"\u001b[0m\u001b[0;34m,\u001b[0m \u001b[0;34m\"compression\"\u001b[0m\u001b[0;34m)\u001b[0m\u001b[0;34m:\u001b[0m\u001b[0;34m\u001b[0m\u001b[0;34m\u001b[0m\u001b[0m\n",
      "\u001b[0;32m~/opt/anaconda3/lib/python3.8/site-packages/pandas/io/parsers.py\u001b[0m in \u001b[0;36m_open_handles\u001b[0;34m(self, src, kwds)\u001b[0m\n\u001b[1;32m   1360\u001b[0m         \u001b[0mLet\u001b[0m \u001b[0mthe\u001b[0m \u001b[0mreaders\u001b[0m \u001b[0mopen\u001b[0m \u001b[0mIOHanldes\u001b[0m \u001b[0mafter\u001b[0m \u001b[0mthey\u001b[0m \u001b[0mare\u001b[0m \u001b[0mdone\u001b[0m \u001b[0;32mwith\u001b[0m \u001b[0mtheir\u001b[0m \u001b[0mpotential\u001b[0m \u001b[0mraises\u001b[0m\u001b[0;34m.\u001b[0m\u001b[0;34m\u001b[0m\u001b[0;34m\u001b[0m\u001b[0m\n\u001b[1;32m   1361\u001b[0m         \"\"\"\n\u001b[0;32m-> 1362\u001b[0;31m         self.handles = get_handle(\n\u001b[0m\u001b[1;32m   1363\u001b[0m             \u001b[0msrc\u001b[0m\u001b[0;34m,\u001b[0m\u001b[0;34m\u001b[0m\u001b[0;34m\u001b[0m\u001b[0m\n\u001b[1;32m   1364\u001b[0m             \u001b[0;34m\"r\"\u001b[0m\u001b[0;34m,\u001b[0m\u001b[0;34m\u001b[0m\u001b[0;34m\u001b[0m\u001b[0m\n",
      "\u001b[0;32m~/opt/anaconda3/lib/python3.8/site-packages/pandas/io/common.py\u001b[0m in \u001b[0;36mget_handle\u001b[0;34m(path_or_buf, mode, encoding, compression, memory_map, is_text, errors, storage_options)\u001b[0m\n\u001b[1;32m    645\u001b[0m                 \u001b[0merrors\u001b[0m \u001b[0;34m=\u001b[0m \u001b[0;34m\"replace\"\u001b[0m\u001b[0;34m\u001b[0m\u001b[0;34m\u001b[0m\u001b[0m\n\u001b[1;32m    646\u001b[0m             \u001b[0;31m# Encoding\u001b[0m\u001b[0;34m\u001b[0m\u001b[0;34m\u001b[0m\u001b[0;34m\u001b[0m\u001b[0m\n\u001b[0;32m--> 647\u001b[0;31m             handle = open(\n\u001b[0m\u001b[1;32m    648\u001b[0m                 \u001b[0mhandle\u001b[0m\u001b[0;34m,\u001b[0m\u001b[0;34m\u001b[0m\u001b[0;34m\u001b[0m\u001b[0m\n\u001b[1;32m    649\u001b[0m                 \u001b[0mioargs\u001b[0m\u001b[0;34m.\u001b[0m\u001b[0mmode\u001b[0m\u001b[0;34m,\u001b[0m\u001b[0;34m\u001b[0m\u001b[0;34m\u001b[0m\u001b[0m\n",
      "\u001b[0;31mFileNotFoundError\u001b[0m: [Errno 2] No such file or directory: '../P7/P7_00_datasets/data-projet7.csv'"
     ]
    }
   ],
   "source": [
    "path = '../P7/P7_00_datasets/'\n",
    "\n",
    "df = pd.read_csv(path + 'data-projet7.csv', decimal=',')"
   ]
  },
  {
   "cell_type": "markdown",
   "id": "bb3449de",
   "metadata": {},
   "source": [
    "# Mission 1\n",
    "\n"
   ]
  },
  {
   "cell_type": "markdown",
   "id": "378c27e6",
   "metadata": {},
   "source": [
    "Résumez les données utilisées :\n",
    "\n",
    "- année(s) des données utilisées ;\n",
    "- nombre de pays présents ;\n",
    "- population couverte par l'analyse (en termes de pourcentage de la population mondiale).\n",
    "\n",
    "Les données de la World Income Distribution présentent pour chaque pays les quantiles de la distribution des revenus de leur population respective.\n",
    "\n",
    "De quel type de quantiles s'agit-il (quartiles, déciles, etc.) ?\n",
    "Échantillonner une population en utilisant des quantiles est-il selon vous une bonne méthode ? Pourquoi ?"
   ]
  },
  {
   "cell_type": "markdown",
   "id": "0ebc0cf3",
   "metadata": {},
   "source": [
    "## Description et preprocessing"
   ]
  },
  {
   "cell_type": "code",
   "execution_count": null,
   "id": "050f4b27",
   "metadata": {},
   "outputs": [],
   "source": [
    "#before introducing my analysis, I provide a brief description of my data\n",
    "df.head()"
   ]
  },
  {
   "cell_type": "markdown",
   "id": "3e34d4da",
   "metadata": {},
   "source": [
    "<div class=\"admonition note alert alert-info\" style=\"color:#4cb2ff\">\n",
    "<p class=\"first admonition-title\"><b>Description des différentes colonnes : </b></p>    \n",
    "<p><b>[country]</b> : code ISO du pays </p>\n",
    "<p><b>[year_survey]</b> : année d'étude </p> \n",
    "<p><b>[quantile]</b> : associé au nombre de quantiles. On possède donc 100 quantiles pour chaque pays. Ils sont numérotés de 1 à 100, où chacun représente 1% de la population. Le quantile numéro 1 représente la moyenne des revenus les plus faibles et le quantile numéro 100 la moyenne des revenus les plus élevés </p>  \n",
    "<p><b>[nb_quantiles]</b> : nombre de quantiles, ici des centiles ou percentiles </p> \n",
    "<p><b>[income]</b> : la moyenne des revenus pour un quantile donné dans un pays donné au cours d'une année donnée, en $PPP (cf détails <a href=\"\"> </a> ICI) </p>  \n",
    "<p><b>[gdpppp]</b> : le PIB par habitants, en parité de pouvoir d'achat </p> \n",
    "</div>"
   ]
  },
  {
   "cell_type": "code",
   "execution_count": null,
   "id": "9a037451",
   "metadata": {},
   "outputs": [],
   "source": [
    "df.info()"
   ]
  },
  {
   "cell_type": "code",
   "execution_count": null,
   "id": "7d5bec23",
   "metadata": {},
   "outputs": [],
   "source": [
    "df.duplicated().sum()"
   ]
  },
  {
   "cell_type": "code",
   "execution_count": null,
   "id": "7013ec37",
   "metadata": {
    "scrolled": true
   },
   "outputs": [],
   "source": [
    "for column in df : \n",
    "    print(column, \":\", df[column].nunique())"
   ]
  },
  {
   "cell_type": "code",
   "execution_count": null,
   "id": "bfd45230",
   "metadata": {},
   "outputs": [],
   "source": [
    "df.groupby('year_survey').nunique()"
   ]
  },
  {
   "cell_type": "markdown",
   "id": "1c308639",
   "metadata": {},
   "source": [
    "<div class=\"admonition note alert alert-info\" style=\"color:#4cb2ff\">\n",
    "    \n",
    "<p><b>Remarque : </b></p>\n",
    "\n",
    "<p>Nous avons donc 116 pays dans notre dataframe, avec 100 quantiles. La valeur logiquement attendue est donc de 11 600 income (soit 11 599 valeurs puisque l'index commence à 0). Il semble donc manquait un income.\n",
    "<br> <br> \n",
    "De plus, nous avons 116 pays et seulement 114 gdpppp. Il semble donc également manquer le gdpppp pour 2 pays.</p> \n",
    "</div>"
   ]
  },
  {
   "cell_type": "code",
   "execution_count": null,
   "id": "25e6519e",
   "metadata": {},
   "outputs": [],
   "source": [
    "#searching for the country where there is a missing quantile\n",
    "rsch = df.groupby('country')['quantile'].count().reset_index()\n",
    "rsch[rsch['quantile'] != 100]"
   ]
  },
  {
   "cell_type": "code",
   "execution_count": null,
   "id": "b687a0cc",
   "metadata": {},
   "outputs": [],
   "source": [
    "#what is the number of the missing quantile ? \n",
    "for i in range(1,101):\n",
    "    if i not in df[df['country'] == 'LTU']['quantile'].values : \n",
    "        print(\"Le quantile manquant est donc le : \", i)"
   ]
  },
  {
   "cell_type": "markdown",
   "id": "860f191c",
   "metadata": {},
   "source": [
    "<div class=\"admonition note alert alert-info\" style=\"color:#4cb2ff\">\n",
    "Pour obtenir la valeur du 41ème quantile de la Lituanie, nous allons donc faire la moyenne des incomes du quantile 40 et du quantile 42.\n",
    "</div>"
   ]
  },
  {
   "cell_type": "code",
   "execution_count": null,
   "id": "82b85251",
   "metadata": {},
   "outputs": [],
   "source": [
    "rsch = df[(df['country']== 'LTU') & ((df['quantile'] == 40) | (df['quantile'] == 42))]\n",
    "\n",
    "#new df with all the information of the quantile 41\n",
    "q41 = pd.DataFrame(({'country' : 'LTU',\n",
    "                     'year_survey' : 2008, \n",
    "                     'quantile' : 41,\n",
    "                     'nb_quantiles' : 100,\n",
    "                     'income' : (round((rsch['income'].values.sum() / 2), 4)),\n",
    "                     'gdpppp' : 17571\n",
    "                    }), index=[6239.5])\n",
    "\n",
    "#add the previous line on the original df\n",
    "df = df.append(q41, ignore_index=False)\n",
    "df = df.sort_index().reset_index(drop=True)\n",
    "\n",
    "#clean\n",
    "del rsch, q41"
   ]
  },
  {
   "cell_type": "code",
   "execution_count": null,
   "id": "3dc29586",
   "metadata": {},
   "outputs": [],
   "source": [
    "#next step : missing gdpppp\n",
    "print(df.isnull().sum())\n",
    "print(\"\")\n",
    "print(df.isna().sum())"
   ]
  },
  {
   "cell_type": "code",
   "execution_count": null,
   "id": "62fe17d6",
   "metadata": {},
   "outputs": [],
   "source": [
    "df[df['gdpppp'].isna()]"
   ]
  },
  {
   "cell_type": "markdown",
   "id": "b18b5392",
   "metadata": {},
   "source": [
    "<div class=\"admonition note alert alert-info\" style=\"color:#4cb2ff\">\n",
    "Le code ISO XKX correspond au Kosovo, on recherche donc sur le site de la <a href=\"https://data.worldbank.org/indicator/NY.GDP.PCAP.PP.CD?end=2008&locations=XK&start=2008\"> Word Income Distribution</a>, son gdpppp pour l'année 2008. Ce dernier est de 7 249,35665. \n",
    "<br>\n",
    "<p> De la même façon, le code ISO PSE correspond à la Palestine (sur la <a href=\"https://data.worldbank.org/indicator/NY.GDP.PCAP.PP.CD?end=2008&locations=PS&start=2008\"> WID</a>, cela correspond à \"West Bank and Gaza\") et son gdpppp pour l'année 2009 est de 3 708,66444.</p>\n",
    "</div>                                                         "
   ]
  },
  {
   "cell_type": "code",
   "execution_count": null,
   "id": "9f37e3ce",
   "metadata": {},
   "outputs": [],
   "source": [
    "df.loc[df[\"country\"]==\"XKX\"] = df.loc[df[\"country\"]==\"XKX\"].replace(np.nan, 7249.35665)\n",
    "df.loc[df[\"country\"]==\"PSE\"] = df.loc[df[\"country\"]==\"PSE\"].replace(np.nan, 3708.66444)"
   ]
  },
  {
   "cell_type": "markdown",
   "id": "4202206b",
   "metadata": {},
   "source": [
    "## Analyse Univariée"
   ]
  },
  {
   "cell_type": "code",
   "execution_count": null,
   "id": "fe5d54d2",
   "metadata": {},
   "outputs": [],
   "source": [
    "df.describe()"
   ]
  },
  {
   "cell_type": "code",
   "execution_count": null,
   "id": "b678abe0",
   "metadata": {},
   "outputs": [],
   "source": [
    "plt.figure(figsize = (20,5))\n",
    "\n",
    "sns.boxplot(x='income', data=df.groupby('country')['income'].mean().reset_index(), orient='h', showmeans=True,\n",
    "            palette=('#4cb2ff', '#61ba86'), meanprops={\"marker\":\"s\", \"markerfacecolor\":\"white\"})\n",
    "plt.xlabel('Income', fontsize=15, labelpad=30, fontweight='bold')\n",
    "plt.title('Répartition des incomes moyens des pays', fontsize=25, pad=50)\n",
    "\n",
    "plt.show()"
   ]
  },
  {
   "cell_type": "code",
   "execution_count": null,
   "id": "3ad69268",
   "metadata": {},
   "outputs": [],
   "source": [
    "plt.figure(figsize = (20,5))\n",
    "\n",
    "sns.boxplot(x='gdpppp', data=df.groupby('country')['gdpppp'].mean().reset_index(), orient='h', \n",
    "            palette=('#4cb2ff', '#61ba86'))\n",
    "plt.xlabel('GDP PPP', fontsize=15, labelpad=30, fontweight='bold')\n",
    "plt.title('Répartition du GDP PPP des pays', fontsize=25, pad=50)\n",
    "\n",
    "plt.show()"
   ]
  },
  {
   "cell_type": "markdown",
   "id": "686b9f28",
   "metadata": {},
   "source": [
    "<div class=\"admonition note alert alert-info\" style=\"color:#4cb2ff\">\n",
    "Cette visualisation attire donc notre attention sur l'outlier situé au dessus des 4 millions.\n",
    "</div>"
   ]
  },
  {
   "cell_type": "code",
   "execution_count": null,
   "id": "a181bb9f",
   "metadata": {},
   "outputs": [],
   "source": [
    "df[df['gdpppp'] == df['gdpppp'].max()]"
   ]
  },
  {
   "cell_type": "markdown",
   "id": "0e3299b2",
   "metadata": {},
   "source": [
    "<div class=\"admonition note alert alert-info\" style=\"color:#4cb2ff\">\n",
    "<p>\n",
    "Il semblerait que le gdpppp des Fiji soit une valeur abérrante. Après vérification sur la WID,  <a href=\"https://data.worldbank.org/indicator/NY.GDP.PCAP.PP.CD?end=2008&locations=FJ&start=2008\"> le gdpppp des Fiji en 2008 </a> est égal à 7 777,73869.\n",
    "<br><br>\n",
    "A titre de comparaison : <br><br>\n",
    "    \n",
    "Les îles Fiji sont un pays d'Océanie avec une population (en 2008) de 845 361 habitants et une superficie de 18 270 km2. La France, avec une superficie de 672 0511 km2 et 64 370 000 d'habitants (en 2008) a un gdpppp qui s'élève à 35 095,266 (en 2008 toujours).\n",
    "</div>"
   ]
  },
  {
   "cell_type": "code",
   "execution_count": null,
   "id": "a9cb0099",
   "metadata": {},
   "outputs": [],
   "source": [
    "df.loc[df[\"country\"]==\"FJI\"] = df.loc[df[\"country\"]==\"FJI\"].replace(4300332.0, 7777.73869)"
   ]
  },
  {
   "cell_type": "code",
   "execution_count": null,
   "id": "fe753ca1",
   "metadata": {},
   "outputs": [],
   "source": [
    "plt.figure(figsize = (20,5))\n",
    "sns.boxplot(x='gdpppp', data=df.groupby('country')['gdpppp'].mean().reset_index(), orient='h', \n",
    "            palette=('#4cb2ff', '#61ba86'),showmeans=True, meanprops={\"marker\":\"s\", \"markerfacecolor\":\"white\"})\n",
    "plt.xlabel('GDP PPP', fontsize=15, labelpad=30, fontweight='bold')\n",
    "plt.title('Répartition du GDP PPP des pays', fontsize=25, pad=50)\n",
    "\n",
    "plt.show()"
   ]
  },
  {
   "cell_type": "markdown",
   "id": "5ad82661",
   "metadata": {},
   "source": [
    "## Population"
   ]
  },
  {
   "cell_type": "code",
   "execution_count": null,
   "id": "38825f67",
   "metadata": {},
   "outputs": [],
   "source": [
    "population = pd.read_csv(path + 'Data_Extract_From_Population_estimates_and_projections_test.csv', \n",
    "                         keep_default_na=False, decimal=\",\")"
   ]
  },
  {
   "cell_type": "code",
   "execution_count": null,
   "id": "44993715",
   "metadata": {},
   "outputs": [],
   "source": [
    "#keep only useful data\n",
    "population.drop(['Series Name', 'Series Code'], axis=1, inplace=True)\n",
    "population.drop(np.arange(217,222), axis=0, inplace=True)\n",
    "population = population.rename(columns = {'Country Name' : 'country_name',\n",
    "                                          'Country Code' : 'country'})\n",
    "\n",
    "#create df per year\n",
    "pop2004 = population[['country_name', 'country', '2004 [YR2004]']].copy()\n",
    "pop2006 = population[['country_name', 'country', '2006 [YR2006]']].copy()\n",
    "pop2007 = population[['country_name', 'country', '2007 [YR2007]']].copy()\n",
    "pop2008 = population[['country_name', 'country', '2008 [YR2008]']].copy()\n",
    "pop2009 = population[['country_name', 'country', '2009 [YR2009]']].copy()\n",
    "pop2010 = population[['country_name', 'country', '2010 [YR2010]']].copy()\n",
    "pop2011 = population[['country_name', 'country', '2011 [YR2011]']].copy()\n",
    "\n",
    "#add usefull columns for next step\n",
    "pop2004['year_survey'] = 2004\n",
    "pop2006['year_survey'] = 2006\n",
    "pop2007['year_survey'] = 2007\n",
    "pop2008['year_survey'] = 2008\n",
    "pop2009['year_survey'] = 2009\n",
    "pop2010['year_survey'] = 2010\n",
    "pop2011['year_survey'] = 2011\n",
    "\n",
    "#rename\n",
    "pop2004 = pop2004.rename(columns = {'2004 [YR2004]' : 'population'})\n",
    "pop2006 = pop2006.rename(columns = {'2006 [YR2006]' : 'population'})\n",
    "pop2007 = pop2007.rename(columns = {'2007 [YR2007]' : 'population'})\n",
    "pop2008 = pop2008.rename(columns = {'2008 [YR2008]' : 'population'})\n",
    "pop2009 = pop2009.rename(columns = {'2009 [YR2009]' : 'population'})\n",
    "pop2010 = pop2010.rename(columns = {'2010 [YR2010]' : 'population'})\n",
    "pop2011 = pop2011.rename(columns = {'2011 [YR2011]' : 'population'})\n",
    "\n",
    "#final df\n",
    "population = pd.concat((pop2004, pop2006, pop2007, pop2008, pop2009, pop2010, pop2011))\n",
    "\n",
    "df = pd.merge(df, population, on=('country', 'year_survey'), how='left')\n",
    "df = df[['country_name', 'country', 'year_survey', 'quantile', 'nb_quantiles', 'income', 'gdpppp', 'population']]\n",
    "\n",
    "#clean \n",
    "del pop2004, pop2006, pop2007, pop2008, pop2009, pop2010, pop2011, population"
   ]
  },
  {
   "cell_type": "code",
   "execution_count": null,
   "id": "fe3f79de",
   "metadata": {},
   "outputs": [],
   "source": [
    "df.isna().sum()"
   ]
  },
  {
   "cell_type": "markdown",
   "id": "afec506e",
   "metadata": {},
   "source": [
    "<div class=\"admonition note alert alert-info\" style=\"color:#4cb2ff\">\n",
    "<p><b>Remarque : </b></p>\n",
    "\n",
    "<p>Le code ISO TWN correspond à la Taïwan. \n",
    "\n",
    "<p><a href='https://countryeconomy.com/demography/population/taiwan?year=2008'> Population de la Taïwan en 2008 </a></p>                                                         \n",
    "<p><a href='https://datahelpdesk.worldbank.org/knowledgebase/articles/114933-where-are-your-data-on-taiwan'> Where are your data on Taiwan? </a></p>\n",
    "\n",
    "<p><a href='https://databank.worldbank.org/views/reports/reportwidget.aspx?Report_Name=CountryProfile&Id=b450fd57&tbar=y&dd=y&inf=n&zm=n&country=CHN'> Special Note from Metadata of People's Republic of China :</a> \" [...] Unless otherwise noted, data for China do not include data for Hong Kong SAR, China ; Macao SAR, China ; or Taiwan, China. \" </p> \n",
    "</div>"
   ]
  },
  {
   "cell_type": "code",
   "execution_count": null,
   "id": "370e13c1",
   "metadata": {},
   "outputs": [],
   "source": [
    "#treatment of nan\n",
    "df.loc[df['country'] == 'TWN', 'country_name'] = 'Taïwan'\n",
    "df.loc[df['country'] == 'TWN', 'population'] = 23037000\n",
    "df['population'] = df['population'].astype(int)\n",
    "\n",
    "#population covered by our df\n",
    "df.groupby('country')['population'].unique().reset_index()['population'].astype(int).sum()"
   ]
  },
  {
   "cell_type": "markdown",
   "id": "1f919355",
   "metadata": {},
   "source": [
    "[Population, Total - World Bank](https://data.worldbank.org/indicator/SP.POP.TOTL?end=2011&start=2004&type=shaded&view=chart)"
   ]
  },
  {
   "cell_type": "code",
   "execution_count": null,
   "id": "dd236893",
   "metadata": {},
   "outputs": [],
   "source": [
    "#average population from 2004 to 2011 (2005 excluded)\n",
    "print(round((6.432 + 6.593 + 6.674 + 6.757 + 6.84 + 6.992 + 7.003) / 7, 4))\n",
    "\n",
    "#population covered by the analysis\n",
    "print(round(6.1885 * 100 / 6.7559,2), '%')"
   ]
  },
  {
   "cell_type": "markdown",
   "id": "7f57bc4d",
   "metadata": {},
   "source": [
    "## Méthode & définition"
   ]
  },
  {
   "cell_type": "markdown",
   "id": "278179cd",
   "metadata": {},
   "source": [
    "De quel type de quantiles s'agit-il (quartiles, déciles, etc.) ? Échantillonner une population en utilisant des quantiles est-il selon vous une bonne méthode ? Pourquoi ?\n",
    "\n",
    "L'unité utilisée dans la colonne income de la world income distribution est le $PPP. Cette unité est calculée par la Banque mondiale, selon la méthode Eltöte-Köves-Szulc. Après vous être documenté, vous expliquerez à votre mentor très brièvement à quoi correspond cette unité et pourquoi elle est pertinente pour une comparaison de pays différents (Il n'est pas nécessaire de donner cette explication lors de la soutenance)."
   ]
  },
  {
   "cell_type": "markdown",
   "id": "9698571f",
   "metadata": {},
   "source": [
    "<div class=\"admonition note alert alert-info\" style=\"color:#4cb2ff\">\n",
    "    \n",
    "<p><b>Méthode :</b></p>\n",
    "                                               \n",
    "<p>L’approche statique de la mesure des inégalités s’appuie sur différents outils qui permettent d’appréhender la dispersion des revenus au sein d’une population étudiée. L’utilisation de quantiles permet d’ordonner la population étudiée en groupes égaux par ordre croissant, en fonction de la valeur que prend la dispersion étudiée dans ces derniers. Lorsque la population étudiée est découpée en tranches de 1%, il s'agit donc de centiles (ou percentiles). Le dernier centile de la population, représente ainsi les 1% des ménages les plus aisés.</p>                       <br>                               \n",
    "<p>Echantillonner une population en quantile me parait donc être une bonne méthode. Le fait que la population soit découpée en centiles permet de conserver une partie de l'information plus homogène que si on l'avait découpé en déciles par exemple. Cela nous permet également de définir des classes de revenu de la même manière dans tous les pays.</p>\n",
    "<br>                                                            \n",
    "<p>De plus, d'autres outils, comme l'indice de Gini et la courbe de Lorenz, permettent également d'appréhender la dispersion des révenus d'une population. L'analogie me parait donc plus simple à comprendre avec des centiles (par exemple, on peut comparer la position du 25ème centile de la France avec le 85ème centile du Niger). </p>  \n",
    "<br>\n",
    "<p><u><b>Définition de l'unité $PPP :</b></u></p> \n",
    "<p>Parité de pouvoir d'achat (Purchasing Pwer Parity) est un taux de conversion monétaire qui permet d'exprimer dans une unité commune les pouvoirs d'achat des différentes monnaies. Ce taux exprime le rapport entre la quantité d'unités monétaires nécessaire dans des pays différents pour se procurer le même « panier » de biens et de services. </p>  \n",
    "</div>"
   ]
  },
  {
   "cell_type": "markdown",
   "id": "d1d088eb",
   "metadata": {},
   "source": [
    "# Mission 2"
   ]
  },
  {
   "cell_type": "markdown",
   "id": "19907859",
   "metadata": {},
   "source": [
    "- Montrez la diversité des pays en termes de distribution de revenus à l'aide d'un graphique. Celui-ci représentera le revenu moyen (axe des ordonnées, sur une échelle logarithmique) de chacune des classes de revenus (axe des abscisses) pour 5 à 10 pays que vous aurez choisis pour montrer la diversité des cas.\n",
    "<br><br>\n",
    "- Représentez la courbe de Lorenz de chacun des pays choisis.\n",
    "<br><br>\n",
    "- Pour chacun de ces pays, représentez l'évolution de l'indice de Gini au fil des ans.\n",
    "<br><br>\n",
    "- Classez les pays par indice de Gini. Donnez la moyenne, les 5 pays ayant l'indice de Gini le plus élevé et les 5 pays ayant l'indice de Gini le plus faible. En quelle position se trouve la France ?"
   ]
  },
  {
   "cell_type": "markdown",
   "id": "7535d0e9",
   "metadata": {},
   "source": [
    "## Diversité des pays"
   ]
  },
  {
   "cell_type": "markdown",
   "id": "ebdabb2e",
   "metadata": {},
   "source": [
    "### Indice de Gini "
   ]
  },
  {
   "cell_type": "code",
   "execution_count": null,
   "id": "bb366c91",
   "metadata": {},
   "outputs": [],
   "source": [
    "#read csv\n",
    "gini = pd.read_csv(path + 'Data_Extract_From_World_Development_Indicators_test.csv', keep_default_na=False, decimal=\",\")\n",
    "\n",
    "#keep only useful data\n",
    "gini.drop(['Series Name', 'Series Code'], axis=1, inplace=True)\n",
    "gini.drop(np.arange(217,222), axis=0, inplace=True)\n",
    "gini.replace('..', np.nan, inplace=True)\n",
    "gini = gini.rename(columns = {'Country Name' : 'country_name', 'Country Code' : 'country'})\n",
    "\n",
    "#rename columns\n",
    "cols = gini.columns\n",
    "renames = {col: col[:4] for col in cols[2:]}\n",
    "gini.rename(columns=renames, inplace=True)\n",
    "\n",
    "#create df per year\n",
    "gini2004 = gini[['country_name', 'country', '2004']].copy()\n",
    "gini2006 = gini[['country_name', 'country', '2006']].copy()\n",
    "gini2007 = gini[['country_name', 'country', '2007']].copy()\n",
    "gini2008 = gini[['country_name', 'country', '2008']].copy()\n",
    "gini2009 = gini[['country_name', 'country', '2009']].copy()\n",
    "gini2010 = gini[['country_name', 'country', '2010']].copy()\n",
    "gini2011 = gini[['country_name', 'country', '2011']].copy()\n",
    " \n",
    "#add usefull columns for next step\n",
    "gini2004['year_survey'] = 2004\n",
    "gini2006['year_survey'] = 2006\n",
    "gini2007['year_survey'] = 2007\n",
    "gini2008['year_survey'] = 2008\n",
    "gini2009['year_survey'] = 2009\n",
    "gini2010['year_survey'] = 2010\n",
    "gini2011['year_survey'] = 2011\n",
    "  \n",
    "#rename\n",
    "gini2004 = gini2004.rename(columns = {'2004' : 'gini'})\n",
    "gini2006 = gini2006.rename(columns = {'2006' : 'gini'})\n",
    "gini2007 = gini2007.rename(columns = {'2007' : 'gini'})\n",
    "gini2008 = gini2008.rename(columns = {'2008' : 'gini'})\n",
    "gini2009 = gini2009.rename(columns = {'2009' : 'gini'})\n",
    "gini2010 = gini2010.rename(columns = {'2010' : 'gini'})\n",
    "gini2011 = gini2011.rename(columns = {'2011' : 'gini'})\n",
    "        \n",
    "#final df\n",
    "gini = pd.concat((gini2004, gini2006, gini2007, gini2008, gini2009, gini2010, gini2011))\n",
    "\n",
    "df = pd.merge(df, gini, on=('country_name', 'country', 'year_survey'), how='left')\n",
    "\n",
    "df = df[['country_name', 'country', 'year_survey', 'quantile', 'nb_quantiles', 'income', 'gdpppp', 'population', \n",
    "         'gini']]\n",
    "\n",
    "df['gini'] = df['gini'].astype(float)\n",
    "\n",
    "#clean\n",
    "del gini, gini2004, gini2006, gini2007, gini2008, gini2009, gini2010, gini2011"
   ]
  },
  {
   "cell_type": "code",
   "execution_count": null,
   "id": "8c7db86c",
   "metadata": {},
   "outputs": [],
   "source": [
    "#country of missing gini\n",
    "gininan = df.groupby(['country_name', 'country', 'year_survey'])['gini'].mean().reset_index()\n",
    "gininan = gininan[gininan['gini'].isna()]\n",
    "gininan.head()"
   ]
  },
  {
   "cell_type": "code",
   "execution_count": null,
   "id": "bfd173f7",
   "metadata": {
    "scrolled": false
   },
   "outputs": [],
   "source": [
    "#more year of gini data\n",
    "gini = pd.read_csv(path + 'Data_Extract_From_World_Development_Indicators.csv', keep_default_na=False, decimal=\",\")\n",
    "\n",
    "#keep only useful data\n",
    "gini.drop(['Series Name', 'Series Code'], axis=1, inplace=True)\n",
    "gini.drop(np.arange(217,222), axis=0, inplace=True)\n",
    "gini.replace('..', np.nan, inplace=True)\n",
    "gini = gini.rename(columns = {'Country Name' : 'country_name', 'Country Code' : 'country'})\n",
    "\n",
    "#rename\n",
    "cols = gini.columns\n",
    "renames = {col: col[:4] for col in cols[2:]}\n",
    "gini.rename(columns=renames, inplace=True)\n",
    "\n",
    "#show only the country where gini index is missing\n",
    "gini['missing_gini'] = gini['country_name'].isin(gininan[gininan['gini'].isna()]['country_name'])\n",
    "\n",
    "test = pd.merge(gininan[gininan['gini'].isna()], gini[gini['missing_gini'] == True], on=['country_name', 'country'],\n",
    "                how='left')\n",
    "\n",
    "test.iloc[:, 4:-1] = test.iloc[:, 4:-1].astype(float)"
   ]
  },
  {
   "cell_type": "markdown",
   "id": "247f17ab",
   "metadata": {},
   "source": [
    "<div class=\"admonition note alert alert-info\" style=\"color:#4cb2ff\">\n",
    "    \n",
    "<p><b>Pour les années où l'indice de Gini est manquant : </b></p>\n",
    "                                              \n",
    "<p>Je regarde donc l'année concernée du pays par notre étude, je recherche ensuite s'il y a une valeur pour l'année précédente ou suivante, jusqu'à ce qu'une valeur soit renseignée.\n",
    "<br><br>                               \n",
    "Je ne dispose d'aucune informations supplémentaires concernant le Cambodia et la Taïwan.\n",
    "<br><br>                                                           \n",
    "    \n",
    "Sur la WID, il n'y a visiblement pas de données disponibles non plus concernant ces deux pays. Après recherche, d'après ce <a href='https://fred.stlouisfed.org/series/SIPOVGINIKHM'>site</a>, qui cite comme source la WID, l'index de gini pour l'année 2008 du Cambodia est de 35.10. Pour la <a href='https://www.statista.com/statistics/922574/taiwan-gini-index/'>Taïwan</a>, l'indice de gini en 2010 est égal à 34.2.</p>  \n",
    "</div>"
   ]
  },
  {
   "cell_type": "code",
   "execution_count": null,
   "id": "44e1c6c2",
   "metadata": {},
   "outputs": [],
   "source": [
    "#assignment of missing gini values \n",
    "df.loc[df['country'] == 'KHM', 'gini'] = 35.10\n",
    "df.loc[df['country'] == 'TWN', 'gini'] = 34.2\n",
    "\n",
    "df.loc[df['country'] == 'AZE', 'gini'] = test[test['country'] == 'AZE']['2005'].values[0]\n",
    "df.loc[df['country'] == 'CHN', 'gini'] = test[test['country'] == 'CHN']['2008'].values[0]\n",
    "df.loc[df['country'] == 'CAN', 'gini'] = test[test['country'] == 'CAN']['2007'].values[0]\n",
    "df.loc[df['country'] == 'COD', 'gini'] = test[test['country'] == 'COD']['2004'].values[0]\n",
    "df.loc[df['country'] == 'HRV', 'gini'] = test[test['country'] == 'HRV']['2009'].values[0]\n",
    "df.loc[df['country'] == 'EGY', 'gini'] = test[test['country'] == 'EGY']['2008'].values[0]\n",
    "df.loc[df['country'] == 'GHA', 'gini'] = test[test['country'] == 'GHA']['2005'].values[0]\n",
    "df.loc[df['country'] == 'GTM', 'gini'] = test[test['country'] == 'GTM']['2014'].values[0]\n",
    "df.loc[df['country'] == 'IND', 'gini'] = test[test['country'] == 'IND']['2009'].values[0]\n",
    "df.loc[df['country'] == 'IRN', 'gini'] = test[test['country'] == 'IRN']['2009'].values[0]\n",
    "df.loc[df['country'] == 'IRQ', 'gini'] = test[test['country'] == 'IRQ']['2006'].values[0]\n",
    "df.loc[df['country'] == 'ISR', 'gini'] = test[test['country'] == 'ISR']['2007'].values[0]\n",
    "df.loc[df['country'] == 'KEN', 'gini'] = test[test['country'] == 'KEN']['2005'].values[0]\n",
    "df.loc[df['country'] == 'XKX', 'gini'] = test[test['country'] == 'XKX']['2006'].values[0]\n",
    "df.loc[df['country'] == 'MYS', 'gini'] = test[test['country'] == 'MYS']['2008'].values[0]\n",
    "df.loc[df['country'] == 'MLI', 'gini'] = test[test['country'] == 'MLI']['2009'].values[0]\n",
    "df.loc[df['country'] == 'MNE', 'gini'] = test[test['country'] == 'MNE']['2012'].values[0]\n",
    "df.loc[df['country'] == 'MAR', 'gini'] = test[test['country'] == 'MAR']['2006'].values[0]\n",
    "df.loc[df['country'] == 'NGA', 'gini'] = test[test['country'] == 'NGA']['2009'].values[0]\n",
    "df.loc[df['country'] == 'MKD', 'gini'] = test[test['country'] == 'MKD']['2009'].values[0]\n",
    "df.loc[df['country'] == 'PAK', 'gini'] = test[test['country'] == 'PAK']['2007'].values[0]\n",
    "df.loc[df['country'] == 'SRB', 'gini'] = test[test['country'] == 'SRB']['2012'].values[0]\n",
    "df.loc[df['country'] == 'LKA', 'gini'] = test[test['country'] == 'LKA']['2006'].values[0]\n",
    "df.loc[df['country'] == 'SYR', 'gini'] = test[test['country'] == 'SYR']['2003'].values[0]\n",
    "df.loc[df['country'] == 'YEM', 'gini'] = test[test['country'] == 'YEM']['2005'].values[0]\n",
    "\n",
    "#clean\n",
    "del gininan, test"
   ]
  },
  {
   "cell_type": "markdown",
   "id": "cdc50344",
   "metadata": {},
   "source": [
    "### Sélection des pays"
   ]
  },
  {
   "cell_type": "code",
   "execution_count": null,
   "id": "e6d707f0",
   "metadata": {},
   "outputs": [],
   "source": [
    "df.groupby('country_name').agg({'income' : 'mean', \n",
    "                                'gdpppp' : 'mean', \n",
    "                                'gini' : 'mean', \n",
    "                                'population' : 'mean'}).describe()"
   ]
  },
  {
   "cell_type": "markdown",
   "id": "35bef25a",
   "metadata": {},
   "source": [
    "<div class=\"admonition note alert alert-info\" style=\"color:#4cb2ff\">    \n",
    "<p><b>Pour sélectionner les pays : </b></p>\n",
    "<p>On affiche le top 10 des premiers et derniers pays pour chaque variable dont on dispose (income, gdpppp et gini  ; cf ligne de code ci-dessous). On sélectionne donc les 2 premiers et derniers pays de ces classements. Ensuite, on vérifie qu'on dispose de l'évolution de l'index de gini sur les années de 2004 à 2011.</p> <br>    \n",
    "<p>Problème rencontré : Pour certains pays, on ne dispose d'aucunes informations sur l'index de gini sur aucune année (2000 - 2020). Cela contraint à selectionner le ou les 2 pays suivants sur la liste, nottament pour les derniers pays possédant un income et un gdpppp faible (majoritairement des pays d'Afrique, où il est difficile de récolter des données ; c'est de cette façon que l'on a sélectionné l'Indonésie et la Palestine). \n",
    "<br><br>\n",
    "Bien que pour l'Afrique du Sud on ne possède que deux index de gini sur les années étudiées, cette dernière étant assez représentative en terme de disparité, il semble judicieux de conserver ce pays.</p>\n",
    "</div>"
   ]
  },
  {
   "cell_type": "code",
   "execution_count": null,
   "id": "a96f4b2f",
   "metadata": {},
   "outputs": [],
   "source": [
    "#by taking this same line of code above, we therefore vary the parameter of the sort_values method (income / gdpppp / \n",
    "#gini) and we use the .head() and .tail() methods.  \n",
    "df.groupby('country_name').agg({'income' : 'mean',\n",
    "                                'gdpppp' : 'mean',\n",
    "                                'gini' : 'mean', \n",
    "                                'population' : 'mean'}).sort_values(['income'], ascending=False).head(10)\n",
    "\n"
   ]
  },
  {
   "cell_type": "code",
   "execution_count": null,
   "id": "29a32874",
   "metadata": {},
   "outputs": [],
   "source": [
    "#create df with only selected countries\n",
    "selected_countries = df[(df['country'] == 'ISL') ^ (df['country'] == 'USA') ^ (df['country'] == 'FRA') ^ \n",
    "                        (df['country'] == 'HND') ^ (df['country'] == 'BRA') ^ (df['country'] == 'SVN') ^ \n",
    "                        (df['country'] == 'LUX') ^ (df['country'] == 'IDN') ^ (df['country'] == 'PSE') ^\n",
    "                        (df['country'] == 'ZAF')]"
   ]
  },
  {
   "cell_type": "markdown",
   "id": "62eb6702",
   "metadata": {},
   "source": [
    "### Visualisation"
   ]
  },
  {
   "cell_type": "markdown",
   "id": "23af7f2d",
   "metadata": {},
   "source": [
    "- Montrez la diversité des pays en termes de distribution de revenus à l'aide d'un graphique. Celui-ci représentera le revenu moyen (axe des ordonnées, sur une échelle logarithmique) de chacune des classes de revenus (axe des abscisses) pour 5 à 10 pays que vous aurez choisis pour montrer la diversité des cas. "
   ]
  },
  {
   "cell_type": "code",
   "execution_count": null,
   "id": "9e0a5974",
   "metadata": {},
   "outputs": [],
   "source": [
    "#diversity of countries\n",
    "plt.figure(figsize=(20, 15))\n",
    "\n",
    "sns.lineplot(x=selected_countries['quantile'], y=selected_countries['income'], hue=selected_countries['country_name'], \n",
    "             data=selected_countries, palette='bright')\n",
    "plt.xlabel(\"Quantiles\")\n",
    "plt.ylabel(\"Revenu moyen\")\n",
    "plt.yscale(\"log\")\n",
    "plt.legend()\n",
    "plt.title(\"Revenu moyen en fonction des classes de revenus\", pad=30, fontsize=20, fontweight='bold')\n",
    "\n",
    "plt.show()"
   ]
  },
  {
   "cell_type": "markdown",
   "id": "1a1ff344",
   "metadata": {},
   "source": [
    "<div class=\"admonition note alert alert-info\" style=\"color:#4cb2ff\">\n",
    "    \n",
    "<p><b>Note </b></p>\n",
    "   \n",
    "<p>Après cette première visualisation, on décide de réduire le nombre de pays sélectionnés, puisque certains suivent la même évolution. On garde donc les pays suivant : le Brésil, la France, l'Indonésie, l'Islande, la Slovénie, les États-Unis et l'Afrique du Sud</p>\n",
    "</div>"
   ]
  },
  {
   "cell_type": "code",
   "execution_count": null,
   "id": "80daed06",
   "metadata": {},
   "outputs": [],
   "source": [
    "#modification of selected_countries\n",
    "selected_countries = df[(df['country'] == 'ISL') ^ (df['country'] == 'USA') ^ (df['country'] == 'FRA') ^ \n",
    "                        (df['country'] == 'BRA') ^ (df['country'] == 'SVN') ^ (df['country'] == 'IDN') ^ \n",
    "                        (df['country'] == 'ZAF')]\n",
    "\n",
    "#diversity of countries\n",
    "plt.figure(figsize=(20, 15))\n",
    "\n",
    "sns.lineplot(x=selected_countries['quantile'], y=selected_countries['income'], hue=selected_countries['country_name'], \n",
    "             data=selected_countries, palette='bright')\n",
    "\n",
    "plt.xlabel(\"Déciles\")\n",
    "plt.ylabel(\"Revenu moyen (échelle logarithmique)\")\n",
    "plt.yscale(\"log\")\n",
    "plt.legend()\n",
    "plt.title(\"Revenu moyen en fonction des classes de revenus\", pad=30, fontsize=20, fontweight='bold')\n",
    "\n",
    "plt.show()"
   ]
  },
  {
   "cell_type": "markdown",
   "id": "2b57cc85",
   "metadata": {},
   "source": [
    "## Courbe de Lorenz"
   ]
  },
  {
   "cell_type": "markdown",
   "id": "8c5a4d43",
   "metadata": {},
   "source": [
    "- Représentez la courbe de Lorenz de chacun des pays choisis. "
   ]
  },
  {
   "cell_type": "markdown",
   "id": "580efc9a",
   "metadata": {},
   "source": [
    "### Pays par pays"
   ]
  },
  {
   "cell_type": "code",
   "execution_count": null,
   "id": "ba34526c",
   "metadata": {
    "scrolled": false
   },
   "outputs": [],
   "source": [
    "d = dict()\n",
    "\n",
    "colors = ['tab:pink', 'tab:blue', 'tab:brown', 'tab:green', 'tab:orange', 'tab:red', 'tab:purple']\n",
    "\n",
    "for country, color in zip(['ZAF', 'BRA', 'USA', 'IDN', 'FRA', 'ISL', 'SVN'], colors) :\n",
    "    \n",
    "    d[country] = selected_countries[selected_countries['country'] == country]\n",
    "\n",
    "    income = d[country]['income'].values\n",
    "    \n",
    "    n = len(income)\n",
    "\n",
    "    lorenz = np.cumsum(np.sort(income)) / income.sum()\n",
    "    lorenz = np.append([0],lorenz)\n",
    "\n",
    "    xaxis = np.linspace(0.01-1/n,1+1/n,n+1)\n",
    "\n",
    "    X = np.arange(0,1.02,0.01)\n",
    "    Y=X\n",
    "\n",
    "    AUC = (lorenz.sum() - lorenz[-1]/2 - lorenz[0]/2) / n \n",
    "    S = 0.5 - AUC \n",
    "    Gini = 2*S\n",
    "\n",
    "    #set figure\n",
    "    plt.figure(figsize=(10,5))\n",
    "\n",
    "    plt.plot(xaxis, lorenz, drawstyle='steps-post', label=d[country]['country_name'].unique()[0], lw=2, color=color)\n",
    "\n",
    "    plt.plot(X, Y, color='#fff0f0', lw=2, label = 'Equality') \n",
    "\n",
    "    #plt.plot([0.8, 0.8], [0, 0.52], 'r--', lw=0.8)\n",
    "    #plt.plot([0, 0.8], [0.52, 0.52], 'r--', lw=0.8)\n",
    "\n",
    "    plt.fill_between(xaxis, lorenz, xaxis, color=color, alpha=0.2) # '#fff0f0'\n",
    "\n",
    "    plt.text(0.9, 0.075, 'Gini:%s ' %round(Gini,2))\n",
    "    plt.legend()\n",
    "    #plt.title(\"Mesure de concentration - Income\", fontsize=20, pad=30)\n",
    "    #plt.savefig('', dpi=300, bbox_inches='tight', pad_inches=0.5)\n",
    "    plt.show()\n",
    "    \n",
    "# The “B” area represents the cumulative resources owned by the population. The established convention is that the \n",
    "# X-axis goes from the most marginal group (e.g. the lowest income categorization) starting on the right and ends \n",
    "# on the left with the most powerful group.\n",
    "\n",
    "# The “A” area represents the area or “gap” between the line of perfect equality and the actual distribution. The \n",
    "# Gini coefficient is the ratio of the area that lies between the line of equality and the Lorenz curve (“A”) over \n",
    "# the total area under the line of equality (“A” and “B”)."
   ]
  },
  {
   "cell_type": "markdown",
   "id": "fea9e8e6",
   "metadata": {},
   "source": [
    "### Tous les pays"
   ]
  },
  {
   "cell_type": "code",
   "execution_count": null,
   "id": "e9288351",
   "metadata": {
    "scrolled": false
   },
   "outputs": [],
   "source": [
    "#set colors\n",
    "colors = ['tab:blue', 'tab:orange', 'tab:green', 'tab:red', 'tab:purple', 'tab:brown', 'tab:pink']\n",
    "\n",
    "#set figure\n",
    "plt.figure(figsize=(15,8))\n",
    "\n",
    "plt.plot(X, Y, color='#fff0f0', lw=2, label = 'Equality') \n",
    "    \n",
    "for country, color in zip(['BRA', 'FRA', 'IDN', 'ISL', 'SVN', 'USA',  'ZAF'], colors) :\n",
    "\n",
    "    d[country] = selected_countries[selected_countries['country'] == country]\n",
    "\n",
    "    income = d[country]['income'].values\n",
    "\n",
    "    n = len(income)\n",
    "\n",
    "    lorenz = np.cumsum(np.sort(income)) / income.sum()\n",
    "    lorenz = np.append([0],lorenz)   \n",
    "\n",
    "    plt.plot(xaxis, lorenz, drawstyle='steps-post', label=d[country]['country_name'].unique()[0], color=color)\n",
    "    plt.legend()\n",
    "    plt.title(\"Mesure de concentration - Income\", fontsize=20, pad=30)\n",
    "\n",
    "#plt.savefig('', dpi=300, bbox_inches='tight', pad_inches=0.5)    \n",
    "plt.show()"
   ]
  },
  {
   "cell_type": "markdown",
   "id": "2f9b8085",
   "metadata": {},
   "source": [
    "## Evolution de l'indice de Gini"
   ]
  },
  {
   "cell_type": "markdown",
   "id": "336c699a",
   "metadata": {},
   "source": [
    "- Pour chacun de ces pays, représentez l'évolution de l'indice de Gini au fil des ans. "
   ]
  },
  {
   "cell_type": "code",
   "execution_count": null,
   "id": "00c5595b",
   "metadata": {},
   "outputs": [],
   "source": [
    "gini_selected_countries = gini[(gini['country'] == 'ISL') ^ (gini['country'] == 'USA') ^ (gini['country'] == 'FRA') ^ \n",
    "                               (gini['country'] == 'BRA') ^ (gini['country'] == 'SVN') ^ (gini['country'] == 'IDN') ^ \n",
    "                               (gini['country'] == 'ZAF')]\n",
    "\n",
    "gini_selected_countries = gini_selected_countries[['country', '2004', '2006', '2007', '2008', '2009', '2010', \n",
    "                                               '2011']].sort_values(by='country')\n",
    "\n",
    "gini_selected_countries"
   ]
  },
  {
   "cell_type": "code",
   "execution_count": null,
   "id": "5217e101",
   "metadata": {},
   "outputs": [],
   "source": [
    "plt.figure(figsize=(20,10))\n",
    "\n",
    "sns.lineplot(data=gini_selected_countries.set_index('country').T.astype(float), markers=True, palette='bright')\n",
    "plt.xlabel('Année')\n",
    "plt.ylabel('Indice de Gini')\n",
    "plt.legend(loc='upper right', bbox_to_anchor=(1.1, 0.5, 0, 0.5))\n",
    "plt.title('Evolution des indices de gini', pad=30, fontsize = 25, fontweight='bold')\n",
    "\n",
    "plt.show()"
   ]
  },
  {
   "cell_type": "markdown",
   "id": "adacd673",
   "metadata": {},
   "source": [
    "- Classez les pays par indice de Gini. Donnez la moyenne, les 5 pays ayant l'indice de Gini le plus élevé et les 5 pays ayant l'indice de Gini le plus faible. En quelle position se trouve la France ?"
   ]
  },
  {
   "cell_type": "code",
   "execution_count": null,
   "id": "c976cd31",
   "metadata": {},
   "outputs": [],
   "source": [
    "print(\"La moyenne des indices de gini est de :\", round(df['gini'].mean(),2))"
   ]
  },
  {
   "cell_type": "code",
   "execution_count": null,
   "id": "4b980c87",
   "metadata": {},
   "outputs": [],
   "source": [
    "df.groupby('country_name').agg({'gini' : 'mean'}).sort_values('gini').head()"
   ]
  },
  {
   "cell_type": "code",
   "execution_count": null,
   "id": "7f81138d",
   "metadata": {},
   "outputs": [],
   "source": [
    "df.groupby('country_name').agg({'gini' : 'mean'}).sort_values('gini', ascending=False).head()"
   ]
  },
  {
   "cell_type": "code",
   "execution_count": null,
   "id": "4199d8e2",
   "metadata": {},
   "outputs": [],
   "source": [
    "fra = df.groupby('country_name').agg({'gini' : 'mean'}).reset_index()\n",
    "print(\"Position de le France :\", fra[fra['country_name'] == 'France'].index[0]+1)\n",
    "fra[fra['country_name'] == 'France']"
   ]
  },
  {
   "cell_type": "markdown",
   "id": "06369e20",
   "metadata": {},
   "source": [
    "# Mission 3 "
   ]
  },
  {
   "cell_type": "markdown",
   "id": "f463055e",
   "metadata": {},
   "source": [
    "<p>\n",
    "Dans l'état actuel, nous avons à disposition deux des trois variables explicatives souhaitées :<br><br>\n",
    "    - \\(m_{j}\\) le revenu moyen du pays  \\(j\\) <br>\n",
    "    - \\(G_{j}\\) l'indice de Gini du pays \\(j\\) <br><br>\n",
    "Il nous manque donc, pour un individu  \\(i\\) , la classe de revenu \\(c_{i,parent}\\) de ses parents.\n",
    "</p>\n",
    "<br>\n",
    "<div class=\"admonition note alert alert-info\" style=\"color:#4cb2ff\">\n",
    "Nous supposons ici que l'on associe à chaque individu \\(i\\) une unique classe \\(c_{i,parent}\\) ; quel que soit le nombre de parents de \\(i\\).\n",
    "</div>\n",
    "                                                              \n",
    "<p>\n",
    "Nous allons donc simuler cette information grâce à un coefficient \\(\\rho_{j}\\) (propre à chaque pays \\(j\\) ), mesurant une corrélation entre le revenu de l'individu \\(i\\) et le revenu de ses parents. Ce coefficient sera ici appelé coefficient d'élasticité ; il mesure la mobilité intergénérationnelle du revenu.\n",
    "</p>    \n",
    "<br>                                                         \n",
    "<div class=\"admonition note alert alert-info\" style=\"color:#4cb2ff\">\n",
    "Pour plus d'informations sur le calcul du coefficient d'élasticité, consulter ce <a href=\"https://s3-eu-west-1.amazonaws.com/static.oc-static.com/prod/courses/files/parcours-data-analyst/2011-measuring-intergenerational-income-mobility-art.pdf\">document</a>, notamment l'équation 1 de la page 8. Ce coefficient est déterminé par une régression linéaire simple dans laquelle le logarithme du revenu de l'enfant \\(Y_{child}\\) est une fonction du logarithme du revenu des parents \\(Y_{parent}\\) :\n",
    "\\[ln(Y_{child}) = \\alpha + \\rho_j\\ ln(Y_{parent}) + \\epsilon\\]  \n",
    "</div>\n",
    "\n",
    "<p><br>\n",
    "Pour obtenir le coefficient d'élasticité, deux possibilités s'offrent à vous : <br>\n",
    "<br>    \n",
    "<li>Vous baser sur ces coefficients donnés par la Banque mondiale, dans GDIM dataset : <a href=\"http://www.worldbank.org/en/topic/poverty/brief/what-is-the-global-database-on-intergenerational-mobility-gdim\"> dataset</a>. Le coefficient d'élasticité est donné pour certains pays, sous le nom d'IGE Income (relative IGM in income). </li><br>\n",
    "<li>Vous baser sur des estimations provenant de multiples études, extrapolées à différentes régions du monde :  elles se trouvent dans le fichier <a href=\"https://s3-eu-west-1.amazonaws.com/static.oc-static.com/prod/courses/files/parcours-data-analyst/projet_7.zip\">elasticity.txt</a>.</li><br></p>\n",
    "   \n",
    "<p>\n",
    "Attention, ces données sont parfois anciennes. <br>\n",
    "Il est aussi possible de combiner ces deux approches. <br>\n",
    "Pour chaque pays, nous allons utiliser une génération aléatoire de la classe de revenu des parents, à partir de ces seules deux informations : \n",
    "\\(\\rho_j\\) la classe de revenu de l'enfant  \\(c_{i,child}\\).\n",
    "</p>\n",
    "<br>\n",
    "<div class=\"alert alert-block alert-warning\">\n",
    "Attention à bien utiliser la classe de revenu de l'enfant (qui est un nombre compris entre 1 et 100 si vous utilisez 100 quantiles), plutôt que son revenu PPP. De même, on ne cherche pas à générer le revenu des parents, mais la classe de revenu des parents \\(c_{i,parent}\\).\n",
    "</div> \n",
    "\n",
    "<p>\n",
    "Voici le protocole de génération pour un pays \\(j\\) donné, qui se base sur l'équation donnée ci dessus : </p>\n",
    "<br>\n",
    "<div class=\"admonition note alert alert-info\" style=\"color:#4cb2ff\">\n",
    "Un exemple de code permettant de réaliser les opérations 1 à 6 est donné tout en bas. Libre à vous de l'utiliser. Notamment, la fonction  proba_cond  vous donnera les probabilités \\(P(c_{i,parent} \\ | \\ c_{i,child,} \\ \\rho_{j=0.9})\\). \n",
    "</div>"
   ]
  },
  {
   "cell_type": "markdown",
   "id": "e3f8919b",
   "metadata": {},
   "source": [
    "## Questions 1 à 3 \n",
    "\n",
    "<ol><li>Générez un grand nombre \\(n\\) de réalisations d'une variable que nous appellerons  \\(ln(Y_{parent})\\) selon une loi normale. Le choix de la moyenne et de l'écart type n'auront pas d'incidence sur le résultat final. \\(n\\) doit être supérieur à 1000 fois le nombre de quantiles.</li>\n",
    "<br>\n",
    "<li>Générez \\(n\\) réalisations du terme d'erreur \\(\\epsilon\\) selon une loi normale de moyenne 0 et d'écart type 1.</li>\n",
    "<br>    \n",
    "<li>Pour une valeur donnée de \\(\\rho_j\\) (par exemple 0.9), calculez \\(y_{child} = e^{\\alpha+\\rho_jln(y_{parent})+\\epsilon}\\) . Le choix de \\( \\alpha\\) n'a aucune incidence sur le résultat final et peut être supprimé. À ce stade, \\(y_{child}\\) contient des valeurs dont l'ordre de grandeur ne reflète pas la réalité, mais cela n'a pas d'influence pour la suite.</li></ol>"
   ]
  },
  {
   "cell_type": "code",
   "execution_count": null,
   "id": "2fdcedd5",
   "metadata": {},
   "outputs": [],
   "source": [
    "def generate_incomes(n, pj):\n",
    "    \n",
    "    \"\"\"\n",
    "    Paramètres : \n",
    "        n : nombre de réalisations\n",
    "        pj : coefficient d'élasticité du pays j\n",
    "        \n",
    "    Renvoie les n salaires enfants et les n salaires des parents respectifs\n",
    "    \"\"\"\n",
    "    \n",
    "    # On génère les revenus des parents (exprimés en logs) selon une loi normale.\n",
    "    # La moyenne et variance n'ont aucune incidence sur le résultat final (ie. sur le caclul de la classe de revenu)\n",
    "    ln_y_parent = st.norm(0,1).rvs(size=n)\n",
    "    \n",
    "    # Génération d'une réalisation du terme d'erreur epsilon\n",
    "    residues = st.norm(0,1).rvs(size=n)\n",
    "    \n",
    "    # On calcule le salaire des enfants en fonction de la fonction linéaire et de l'indice d'élasticité pj\n",
    "    return np.exp(pj*ln_y_parent + residues), np.exp(ln_y_parent)"
   ]
  },
  {
   "cell_type": "code",
   "execution_count": null,
   "id": "2f754ab8",
   "metadata": {},
   "outputs": [],
   "source": [
    "#elasticity coefficient of country j\n",
    "pj = 0.9 \n",
    "\n",
    "#number of quantiles (number of income classes)\n",
    "nb_quantiles = 100\n",
    "\n",
    "#sample size\n",
    "n = 1000 * nb_quantiles  \n",
    "\n",
    "#calculation\n",
    "y_child, y_parents = generate_incomes(n, pj)"
   ]
  },
  {
   "cell_type": "markdown",
   "id": "8f76a591",
   "metadata": {},
   "source": [
    "## Question 4 \n",
    "\n",
    "<ol start=\"4\">\n",
    "<li>Pour chacun des \\(n\\) individus générés, calculez la classe de revenu  \\(c_{i,child}\\) ainsi que la classe de revenu de ses parents \\(c_{i,parent}\\) , à partir de \\(y_{child}\\) et \\(y_{parent}\\).</li> </ol>\n"
   ]
  },
  {
   "cell_type": "code",
   "execution_count": null,
   "id": "b6cbd6da",
   "metadata": {},
   "outputs": [],
   "source": [
    "def quantiles(l, nb_quantiles):\n",
    "    \n",
    "    \"\"\"\n",
    "    Paramètres : \n",
    "        l (série) \n",
    "        nb_quantiles\n",
    "        \n",
    "    Renvoie une série indiquant le quantile qui correspond a chaque valeur de l\n",
    "    \"\"\"\n",
    "    \n",
    "    size = len(l)\n",
    "    l_sorted = l.copy()\n",
    "    l_sorted = l_sorted.sort_values()\n",
    "    quantiles = np.round(np.arange(1, nb_quantiles+1, nb_quantiles/size) -0.5 +1./size)\n",
    "    q_dict = {a:int(b) for a,b in zip(l_sorted,quantiles)}\n",
    "    return pd.Series([q_dict[e] for e in l])\n",
    "\n",
    "\n",
    "def compute_quantiles(y_child, y_parents, nb_quantiles):\n",
    "    \n",
    "    \"\"\"\n",
    "    Paramètres : \n",
    "        y_child : revenu enfant (array)\n",
    "        y_parents : revenu parents (array) \n",
    "        nb_quantiles\n",
    "        \n",
    "    Renvoie un dataframe\n",
    "    \"\"\"\n",
    "    \n",
    "    y_child = pd.Series(y_child)\n",
    "    y_parents = pd.Series(y_parents)\n",
    "    \n",
    "    c_i_child = quantiles(y_child, nb_quantiles)\n",
    "    c_i_parent = quantiles(y_parents, nb_quantiles)\n",
    "    \n",
    "    sample = pd.concat([y_child, y_parents, c_i_child, c_i_parent], axis=1)\n",
    "    sample.columns = [\"y_child\", \"y_parents\", \"c_i_child\",\"c_i_parent\"]\n",
    "    \n",
    "    return sample"
   ]
  },
  {
   "cell_type": "code",
   "execution_count": null,
   "id": "588c9207",
   "metadata": {},
   "outputs": [],
   "source": [
    "sample = compute_quantiles(y_child, y_parents, nb_quantiles)\n",
    "sample.head()"
   ]
  },
  {
   "cell_type": "markdown",
   "id": "e507b932",
   "metadata": {},
   "source": [
    "## Question 5\n",
    "<ol start=5><li>À partir de cette dernière information, estimez pour chaque  \\(c_{i,child}\\) la distribution conditionnelle de \\(c_{i,parent}\\) . Par exemple, si vous observez 6 individus ayant à la fois  \\(c_{i,child} = 5\\) et \\(c_{i,parent} = 8\\) , et que 200 individus sur 20000 ont \\( c_{i,child} = 5\\) , alors la probabilité d'avoir \\( c_{i,parent} = 8\\) sachant  \\(c_{i,child} = 5\\) et sachant \\(\\rho_j=0.9\\) sera estimée à 6/200 (On note cette probabilité comme ceci : \\(P(c_{i,parent}=8|c_{i,child}=5,\\rho_j=0.9) = 0.03\\)). Si votre population est divisée en \\(c\\) classes de revenu, vous devriez alors avoir \\(c^2\\) estimations de ces probabilités conditionnelles, pour chaque pays.</li></ol>"
   ]
  },
  {
   "cell_type": "code",
   "execution_count": null,
   "id": "165a4d28",
   "metadata": {},
   "outputs": [],
   "source": [
    "def distribution(counts, nb_quantiles):\n",
    "    \n",
    "    \"\"\"\n",
    "    Paramètres : \n",
    "        counts (df) : c_i_child | c_i_parent | counts \n",
    "            c_i_child : fixée,\n",
    "            c_i_parent : la classe des parents, \n",
    "            counts : le nombre d'individus représentés (enfant / parents)\n",
    "        nb_quantiles\n",
    "\n",
    "    Renvoie la distribution des classes de revenu des parents pour la classe enfant sour la forme d'un array à une \n",
    "    dimension (i+1 étant la classe des parents).\n",
    "    \"\"\"\n",
    "    \n",
    "    distrib = []\n",
    "    # On compte le nombre totale d'individus\n",
    "    total = counts[\"counts\"].sum()\n",
    "    \n",
    "    # S'il n'y a aucun individus, une ligne de 0 est renvoyée\n",
    "    if total == 0 :\n",
    "        return [0] * nb_quantiles\n",
    "    \n",
    "    # Pour chaque quantiles parents\n",
    "    for q_p in range(1, nb_quantiles+1):\n",
    "         # On ne garde que les lignes du quantile parent concerné\n",
    "        subset = counts[counts.c_i_parent == q_p]\n",
    "        \n",
    "        if len(subset):\n",
    "            # Si la longueur n'est pas nulle, on ajoute au resultat la fréquence d'apparition de q_p\n",
    "            nb = subset[\"counts\"].values[0]\n",
    "            distrib += [nb / total]\n",
    "        else:\n",
    "            distrib += [0]\n",
    "    \n",
    "    return distrib   \n",
    "\n",
    "\n",
    "def conditional_distributions(sample, nb_quantiles):\n",
    "    \n",
    "    \"\"\"\n",
    "    Paramètres : \n",
    "        sample (df) : y_child | y_parents | c_i_child | c_i_parents\n",
    "        nb_quantiles\n",
    "        \n",
    "    Renvoie une matrice à deux dimensions :\n",
    "        - une ligne par quantile enfant\n",
    "        - au sein d'une ligne, on a la distribution des quantiles des parents\n",
    "        Les valeurs peuvent être interprétées comme des probabilités 'c_parent sachant c_enfant'\n",
    "    \"\"\"\n",
    "    \n",
    "    # On compte le nombre d'individus (parents / enfant)  qu'il y a pour chaque paire de quantiles parents / enfant\n",
    "    counts = sample.groupby([\"c_i_child\",\"c_i_parent\"]).apply(len)\n",
    "    counts = counts.reset_index()\n",
    "    counts.columns = [\"c_i_child\",\"c_i_parent\",\"counts\"]\n",
    "    \n",
    "    mat = []\n",
    "    # Enumeration des numeros des quantiles\n",
    "    for child_quantile in np.arange(nb_quantiles)+1:\n",
    "        subset = counts[counts.c_i_child == child_quantile]\n",
    "        mat += [distribution(subset, nb_quantiles)]\n",
    "    return np.array(mat) \n",
    "    \n",
    "    \n",
    "def proba_cond(c_i_parent, c_i_child, mat):\n",
    "    return mat[c_i_child-1, c_i_parent-1]"
   ]
  },
  {
   "cell_type": "code",
   "execution_count": null,
   "id": "71f10951",
   "metadata": {},
   "outputs": [],
   "source": [
    "cd = conditional_distributions(sample, nb_quantiles)\n",
    "\n",
    "c_i_child = 5\n",
    "c_i_parent = 8\n",
    "\n",
    "p = proba_cond(c_i_parent, c_i_child, cd)\n",
    "\n",
    "print(\"\\nP(c_i_parent = {} | c_i_child = {}, pj = {}) = {}\".format(c_i_parent, c_i_child, pj, round(p,2)))"
   ]
  },
  {
   "cell_type": "markdown",
   "id": "cf57f29a",
   "metadata": {},
   "source": [
    "## Question 6\n",
    "\n",
    "<ol start=6><li>Optionnellement et pour vérifier la cohérence de votre code, vous pouvez créer un graphique représentant ces distributions conditionnelles. Voici 2 exemples pour une population segmentée en 10 classes, pour 2 valeurs de \\(\\rho_j\\) : l'une traduisant une forte mobilité (0.1) et l'autre une très faible mobilité (0.9) : </li></ol>\n",
    "\n",
    "<img src=\"2.png\" width=\"400\" height=\"400\">\n",
    "<img src=\"1.png\" width=\"400\" height=\"400\">"
   ]
  },
  {
   "cell_type": "code",
   "execution_count": null,
   "id": "7c647966",
   "metadata": {},
   "outputs": [],
   "source": [
    "def plot_conditional_distributions(p, cd, nb_quantiles):\n",
    "    \n",
    "    \"\"\"\n",
    "    Paramètres : \n",
    "        p : coefficient d'élasticité \n",
    "        cd : matrice des distributions conditionnelles \n",
    "        nb_quantiles\n",
    "        \n",
    "     Les lignes suivantes servent à afficher un graphique en \"stack bars\", suivant ce modèle : \n",
    "                        https://matplotlib.org/gallery/lines_bars_and_markers/bar_stacked.html\n",
    "    \"\"\"\n",
    "    \n",
    "    plt.figure()\n",
    "    \n",
    "    my_colors = ['tab:blue', 'tab:orange', 'tab:green', 'tab:red', 'tab:purple', 'tab:brown', 'tab:pink', 'tab:gray',\n",
    "                 'tab:olive', 'tab:cyan']\n",
    "    \n",
    "    cumul = np.array([0] * nb_quantiles)\n",
    "    \n",
    "    for i, child_quantile in enumerate(cd):\n",
    "        plt.bar(np.arange(nb_quantiles)+1, child_quantile, bottom=cumul, width=0.95, label = str(i+1) + \"e\", \n",
    "               color = my_colors[i])\n",
    "        cumul = cumul + np.array(child_quantile)\n",
    "\n",
    "    plt.axis([.5, nb_quantiles*1.3 ,0 ,1])\n",
    "    plt.xlim(0,11)\n",
    "    plt.title(\"p=\" + str(p))\n",
    "    plt.legend(bbox_to_anchor=(1.1, 0.5, 0.2, 0.5))\n",
    "    plt.xlabel(\"Quantile parents\")\n",
    "    plt.ylabel(\"Probabilité du quantile enfant\")\n",
    "    plt.show()"
   ]
  },
  {
   "cell_type": "code",
   "execution_count": null,
   "id": "f2f23864",
   "metadata": {},
   "outputs": [],
   "source": [
    "#number of quantiles (number of income classes)\n",
    "nb_quantiles = 10\n",
    "\n",
    "#sample size\n",
    "n = 1000 * nb_quantiles  \n",
    "\n",
    "#calculation\n",
    "y_child, y_parents = generate_incomes(n, pj)\n",
    "\n",
    "sample = compute_quantiles(y_child, y_parents, nb_quantiles)\n",
    "\n",
    "cd = conditional_distributions(sample, nb_quantiles)\n",
    "\n",
    "plot_conditional_distributions(pj, cd, nb_quantiles) # Cette instruction prendra du temps si nb_quantiles > 10\n",
    "\n",
    "# Interprétation : dans le premier decile parent = 42 % pour l'enfant d'être le premier décile == faible mobilité \n",
    "# indice d'élasticité fort = faible mobilité "
   ]
  },
  {
   "cell_type": "markdown",
   "id": "237e9946",
   "metadata": {},
   "source": [
    "## Question 7\n",
    "\n",
    "<ol start=7><li>Éventuellement et pour éviter toute confusion, effacez les individus que vous venez de générer (nous n'en avons plus besoin), et ne gardez que les distributions conditionnelles.</li></ol>\n"
   ]
  },
  {
   "cell_type": "code",
   "execution_count": null,
   "id": "717722f2",
   "metadata": {},
   "outputs": [],
   "source": [
    "del y_parents, y_child"
   ]
  },
  {
   "cell_type": "markdown",
   "id": "9647171d",
   "metadata": {},
   "source": [
    "## Question 8"
   ]
  },
  {
   "cell_type": "markdown",
   "id": "54329bd9",
   "metadata": {},
   "source": [
    "<ol start=8><li>Nous allons maintenant travailler sur un nouvel échantillon. Celui-ci sera créé à partir de la WID. Pour chaque individu de la World Income Distribution, créez-en 499 \"clones\". La taille de votre nouvel échantillon sera donc 500 fois plus grand que celui de la World Income Distribution.</li></ol>"
   ]
  },
  {
   "cell_type": "code",
   "execution_count": null,
   "id": "feacf03a",
   "metadata": {},
   "outputs": [],
   "source": [
    "#we consider that each percentile is an individual child \n",
    "df1 = df[['country_name', 'country', 'quantile', 'income']]\n",
    "df1.columns = ['country_name', 'country', 'c_i_child', 'y_child']\n",
    "\n",
    "#we create 500 copies of each child\n",
    "df1 = pd.concat([df1] * 500, ignore_index=True)\n",
    "\n",
    "#storage optimization\n",
    "df1['country'] = df1['country'].astype('category')\n",
    "df1['c_i_child'] = df1['c_i_child'].astype('int8')"
   ]
  },
  {
   "cell_type": "markdown",
   "id": "a636fed3",
   "metadata": {},
   "source": [
    "<div class=\"admonition note alert alert-info\" style=\"color:#4cb2ff\">\n",
    "    \n",
    "<p><b>Note</b></p>\n",
    "                                                \n",
    "<p>Le nouveau dataframe df1 obtenu est donc le résultat de la simulation d'individus supplémentaires de notre dataframe original df. Ce nouveau dataframe est composé de 5 800 000 lignes contenant toujours 116 pays. Pour chaque pays, on a donc 50 000 individus et pour chaque centile, 500 individus à revenus égaux. On considère désormais les income comme les y_child.</p>\n",
    "</div>"
   ]
  },
  {
   "cell_type": "markdown",
   "id": "956b0fd4",
   "metadata": {},
   "source": [
    "## Question 9"
   ]
  },
  {
   "cell_type": "markdown",
   "id": "98803d62",
   "metadata": {},
   "source": [
    "<ol start=9><li>Pour chaque \\(c_{i,child}\\) et chaque pays, il y a maintenant 500 individus. Vous attribuerez aux 500 individus leurs classes \\( c_{i,parent}\\) conformément aux distributions trouvées précédemment. Par exemple, si \\(P(c_{i,parent}=8|c_{i,child}=5,\\rho_j=0.9) = 0.03\\) , alors vous assignerez la classe \\(c_{i,parent} = 8\\) à 15 des 500 individus du pays \\( j\\) ayant \\(c_{i,child}=5\\) , car 500*0.03 = 15.</li></ol>"
   ]
  },
  {
   "cell_type": "markdown",
   "id": "edf953bb",
   "metadata": {},
   "source": [
    "### Coefficients d'élasticité "
   ]
  },
  {
   "cell_type": "code",
   "execution_count": null,
   "id": "9ac6ef06",
   "metadata": {},
   "outputs": [],
   "source": [
    "#2018 elasticity coefficients data from wid\n",
    "wid = pd.read_csv(path + 'GDIMMay2018.csv', sep = \",\")\n",
    "\n",
    "#elasticity coefficients == IGEincome\n",
    "coeff_pj = wid.groupby('wbcode')['IGEincome'].mean().reset_index()\n",
    "\n",
    "#rename\n",
    "coeff_pj.columns = ['country', 'p_j']\n",
    "\n",
    "#merge\n",
    "df1 = df1.merge(coeff_pj, how = 'left', on = 'country')"
   ]
  },
  {
   "cell_type": "markdown",
   "id": "efa139b9",
   "metadata": {},
   "source": [
    "### Coefficients d'élasticité manquants"
   ]
  },
  {
   "cell_type": "code",
   "execution_count": null,
   "id": "3f310557",
   "metadata": {},
   "outputs": [],
   "source": [
    "#file elasticity.txt provided by OpenClassRooms - cf paragraph 1.3.3"
   ]
  },
  {
   "cell_type": "markdown",
   "id": "dfedbc25",
   "metadata": {},
   "source": [
    "| Region                             | Base Case       | Optimistic (high mobility) | Pessimistic (low mobility) |\n",
    "| :--------------------------------- |:---------------:|:--------------------------:|:--------------------------:| \n",
    "| Nordic European countries & Canada | 0.2             | 0.15                       | 0.3                        |\n",
    "| Europe (except nordic countries)   | 0.4             | 0.3                        | 0.5                        |\n",
    "| Australia/New Zealand/USA          | 0.4             | 0.3                        | 0.5                        |\n",
    "| Asia                               | 0.5             | 0.4                        | 0.6                        |\n",
    "| Latin America/Africa               | 0.66            | 0.5                        | 0.9                        |\n"
   ]
  },
  {
   "cell_type": "markdown",
   "id": "b1338d14",
   "metadata": {},
   "source": [
    "<div class=\"admonition note alert alert-info\" style=\"color:#4cb2ff\">\n",
    "    \n",
    "<p><b>Remarque</b></p>\n",
    "                                               \n",
    "<p>Dans le dataframe nommé wid, les régions ne sont pas correctement renseignées (certains pays ont pour région 'High Income'). On importe donc un autre csv provenant de la WID afin d'avoir la correspondance pays / région et ainsi pouvoir attribuer les coefficients d'élasticité manquants facilement.</p>\n",
    "</div>"
   ]
  },
  {
   "cell_type": "code",
   "execution_count": null,
   "id": "bafe782b",
   "metadata": {},
   "outputs": [],
   "source": [
    "#read csv\n",
    "region = pd.read_csv(path + 'Metadata_Country_API_SI.POV.GINI_DS2_en_csv_v2_2764025.csv')\n",
    "\n",
    "#select usefull columns\n",
    "region = region[['Country Code', 'Region']]\n",
    "\n",
    "#rename columns\n",
    "region.columns = ['country', 'region']\n",
    "\n",
    "#merge\n",
    "df1 = df1.merge(region, how = 'left', on = 'country')\n",
    "\n",
    "#reorder\n",
    "df1 = df1[['country_name', 'country', 'region', 'c_i_child', 'y_child', 'p_j']]\n",
    "\n",
    "#regions present\n",
    "df1['region'].unique()"
   ]
  },
  {
   "cell_type": "code",
   "execution_count": null,
   "id": "9096516c",
   "metadata": {},
   "outputs": [],
   "source": [
    "#which country returns a nan region ?\n",
    "df1[df1['region'].isna()]['country_name'].unique()"
   ]
  },
  {
   "cell_type": "code",
   "execution_count": null,
   "id": "54808a4e",
   "metadata": {},
   "outputs": [],
   "source": [
    "#value attribution\n",
    "df1['region'] = df1['region'].fillna(\"East Asia & Pacific\")"
   ]
  },
  {
   "cell_type": "code",
   "execution_count": null,
   "id": "22d4ca5a",
   "metadata": {},
   "outputs": [],
   "source": [
    "#for which region the elasticity coefficients are missing?\n",
    "df1[df1['p_j'].isna()]['region'].unique()"
   ]
  },
  {
   "cell_type": "code",
   "execution_count": null,
   "id": "f5390bff",
   "metadata": {},
   "outputs": [],
   "source": [
    "d = {'Latin America & Caribbean' : 0.66,\n",
    "     'Europe & Central Asia' : 0.4,\n",
    "     'Sub-Saharan Africa' : 0.66,\n",
    "     'South Asia' : 0.5,\n",
    "     'East Asia & Pacific' : 0.5,\n",
    "     'Middle East & North Africa' : 0.66}\n",
    "\n",
    "#value attribution\n",
    "for e in d : \n",
    "    df1[df1['region'] == e] = df1[df1['region'] == e].fillna(d[e])\n",
    "\n",
    "#reorder\n",
    "df1 = df1.sort_values(['country_name', 'c_i_child']).reset_index(drop = True)"
   ]
  },
  {
   "cell_type": "markdown",
   "id": "e984ff66",
   "metadata": {},
   "source": [
    "### Calcul des c${_{i,parent}}$ "
   ]
  },
  {
   "cell_type": "markdown",
   "id": "4f3ad78d",
   "metadata": {},
   "source": [
    "<div class=\"admonition note alert alert-info\" style=\"color:#4cb2ff\">\n",
    "Pour plus d'informations sur le calcul du coefficient d'élasticité, consulter ce <a href=\"https://s3-eu-west-1.amazonaws.com/static.oc-static.com/prod/courses/files/parcours-data-analyst/2011-measuring-intergenerational-income-mobility-art.pdf\">document</a>, notamment l'équation 1 de la page 8. Ce coefficient est déterminé par une régression linéaire simple dans laquelle le logarithme du revenu de l'enfant \\(Y_{child}\\) est une fonction du logarithme du revenu des parents \\(Y_{parent}\\) :\n",
    "\\[ln(Y_{child}) = \\alpha + \\rho_j\\ ln(Y_{parent}) + \\epsilon\\] \n",
    "</div>"
   ]
  },
  {
   "cell_type": "markdown",
   "id": "04e1734f",
   "metadata": {},
   "source": [
    "Affichage formule y_parent = ... "
   ]
  },
  {
   "cell_type": "code",
   "execution_count": null,
   "id": "2b47f650",
   "metadata": {},
   "outputs": [],
   "source": [
    "def c_i_parent(y_child, pj, alpha=0, nb_quantiles=100):\n",
    "    \n",
    "    #sample size\n",
    "    size = len(y_child)\n",
    "    \n",
    "    #quantiles\n",
    "    quantiles = np.round(np.arange(1, nb_quantiles+1, nb_quantiles/size)- 0.5 + 1./size)\n",
    "    \n",
    "    #generation of a realization of the error term epsilon\n",
    "    epsilon = st.norm(0,1).rvs(size)\n",
    "    \n",
    "    #calculation of y_parent\n",
    "    y_parent = [np.exp((np.log(x) - alpha - y)/pj) for x, y in zip(y_child, epsilon)]\n",
    "    \n",
    "    #dict() c_i_parent\n",
    "    q_dict = {a : int(b) for a, b in zip(np.sort(y_parent), quantiles)}\n",
    "    \n",
    "    #list() c_i_parent\n",
    "    return [q_dict[e] for e in y_parent]"
   ]
  },
  {
   "cell_type": "code",
   "execution_count": null,
   "id": "15d764f6",
   "metadata": {},
   "outputs": [],
   "source": [
    "%%time\n",
    "\n",
    "p_j = {x : y for x, y in zip(df1[['country', 'p_j']].drop_duplicates()['country'],\n",
    "                            df1[['country', 'p_j']].drop_duplicates()['p_j'])}\n",
    "\n",
    "centiles_parent = np.array([], dtype=int)\n",
    "\n",
    "for k in df1['country'].unique():\n",
    "    centiles_parent = np.append(centiles_parent, c_i_parent(df1[df1['country'] == k]['y_child'], p_j[k] , alpha=2),\n",
    "                                axis = 0)"
   ]
  },
  {
   "cell_type": "code",
   "execution_count": null,
   "id": "335d4136",
   "metadata": {},
   "outputs": [],
   "source": [
    "#assign\n",
    "df1[\"c_i_parent\"] = centiles_parent\n",
    "\n",
    "#clean\n",
    "del centiles_parent\n",
    "\n",
    "#show\n",
    "df1.head()"
   ]
  },
  {
   "cell_type": "markdown",
   "id": "bafc077d",
   "metadata": {},
   "source": [
    "## Question 10"
   ]
  },
  {
   "cell_type": "markdown",
   "id": "b6d4c4e8",
   "metadata": {},
   "source": [
    "<li><ol start=9>Éventuellement et pour éviter toute confusion, effacez la variable \\(c_{i,child}\\)  : nous n'en avons pas besoin pour la mission 4.</ol></li>"
   ]
  },
  {
   "cell_type": "code",
   "execution_count": null,
   "id": "fbd58956",
   "metadata": {},
   "outputs": [],
   "source": [
    "df1 = df1.drop(columns='c_i_child')"
   ]
  },
  {
   "cell_type": "markdown",
   "id": "7a17b7d1",
   "metadata": {},
   "source": [
    "## Question 11"
   ]
  },
  {
   "cell_type": "markdown",
   "id": "65e4e145",
   "metadata": {},
   "source": [
    "<li><ol start=11>Assurez-vous que votre nouvel échantillon contiennent bien les variables initialement présentes dans la World Income Distribution : \\(m_j\\) et \\(G_j\\).</ol></li>\n",
    "\n",
    "Utilisez ce nouvel échantillon pour la mission 4."
   ]
  },
  {
   "cell_type": "code",
   "execution_count": null,
   "id": "ce513d44",
   "metadata": {},
   "outputs": [],
   "source": [
    "#average income\n",
    "mj = df.groupby('country_name')['income'].mean().reset_index()\n",
    "mj = mj.rename(columns = {'income' : 'mj'})"
   ]
  },
  {
   "cell_type": "code",
   "execution_count": null,
   "id": "9f262a73",
   "metadata": {},
   "outputs": [],
   "source": [
    "#gini coefficient\n",
    "Gj = df.groupby('country_name')['gini'].mean().reset_index()\n",
    "Gj = Gj.rename(columns = {'gini' : 'Gj'} )"
   ]
  },
  {
   "cell_type": "code",
   "execution_count": null,
   "id": "1c090e24",
   "metadata": {
    "scrolled": true
   },
   "outputs": [],
   "source": [
    "#merge\n",
    "df1 = df1.merge(mj, on='country_name', how='left')\n",
    "df1 = df1.merge(Gj, on='country_name', how='left')\n",
    "\n",
    "#drop\n",
    "df1.drop(columns='region', inplace=True)"
   ]
  },
  {
   "cell_type": "markdown",
   "id": "069c2f92",
   "metadata": {},
   "source": [
    "# Mission 4"
   ]
  },
  {
   "cell_type": "markdown",
   "id": "0b6920c9",
   "metadata": {},
   "source": [
    "Pour cette mission 4, nous chercherons à expliquer le revenu des individus en fonction de plusieurs variables explicatives : le pays de l'individu, l'indice de Gini de ce pays, la classe de revenus des parents, etc.\n",
    "\n",
    "Appliquez une ANOVA sur vos données, en n’incluant comme variable explicative que le pays de l’individu. Analysez la performance du modèle."
   ]
  },
  {
   "cell_type": "code",
   "execution_count": null,
   "id": "10abd214",
   "metadata": {},
   "outputs": [],
   "source": [
    "#data sampling\n",
    "sample = df1.sample(frac=0.2, random_state=32).sort_values(by=['country_name', 'y_child', 'c_i_parent'])"
   ]
  },
  {
   "cell_type": "markdown",
   "id": "1a077d34",
   "metadata": {},
   "source": [
    "## ANOVA"
   ]
  },
  {
   "cell_type": "markdown",
   "id": "b4251d76",
   "metadata": {},
   "source": [
    "### Assumption Check"
   ]
  },
  {
   "cell_type": "markdown",
   "id": "154fee47",
   "metadata": {},
   "source": [
    "<div class=\"admonition note alert alert-info\" style=\"color:#4cb2ff\">\n",
    "<b>Parametric test assumptions : </b>\n",
    "\n",
    "- Population distributions are normal\n",
    "- Samples have equal variances\n",
    "</div>"
   ]
  },
  {
   "cell_type": "markdown",
   "id": "dc23e99f",
   "metadata": {},
   "source": [
    "<div class=\"alert alert-block alert-danger\"> BIEN CHECK QUE TOUT EST SUR DF1 </div>"
   ]
  },
  {
   "cell_type": "markdown",
   "id": "3ffa1229",
   "metadata": {},
   "source": [
    "#### Normality"
   ]
  },
  {
   "cell_type": "code",
   "execution_count": null,
   "id": "76a5e67f",
   "metadata": {},
   "outputs": [],
   "source": [
    "pg.qqplot(df1['y_child'], dist='norm', figsize=(15,8));"
   ]
  },
  {
   "cell_type": "markdown",
   "id": "38db5da8",
   "metadata": {},
   "source": [
    "<div class=\"admonition note alert alert-info\" style=\"color:#4cb2ff\">\n",
    "<b>WHAT IF NORMALITY IS VIOLATED? </b>\n",
    "\n",
    "- Rely on the Central Limit Theorem if the sample size is large enough (≥ 30)\n",
    "- Transform the data\n",
    "- Use a non-parametric statistical test\n",
    "    \n",
    "Transforming the data can also help if the assumption of equal variances is violated.\n",
    "</div>"
   ]
  },
  {
   "cell_type": "markdown",
   "id": "e6e08dcd",
   "metadata": {},
   "source": [
    "#### Homoscedasticity"
   ]
  },
  {
   "cell_type": "markdown",
   "id": "cf3b0e8a",
   "metadata": {},
   "source": [
    "<div class=\"admonition note alert alert-info\" style=\"color:#4cb2ff\">\n",
    "As with testing the assumption of normality, there are a few statistical tests available to test the assumption of equal variances. Some common methods are the Barlett test and Levene's test for equality of variances. Choosing the correct test is also dependent on the assumption of normality. For example, Barlett's test has been found to be sensitive to departures from normality whereas Levene's test is less sensitive to this (Conover, 1981).\n",
    "</div>"
   ]
  },
  {
   "cell_type": "code",
   "execution_count": null,
   "id": "8c9484fd",
   "metadata": {
    "scrolled": true
   },
   "outputs": [],
   "source": [
    "plt.figure(figsize=(25,8))\n",
    "sns.boxplot(data=df1, x='country', y='y_child', showfliers=False)\n",
    "plt.xticks([])\n",
    "plt.xlabel('Country');"
   ]
  },
  {
   "cell_type": "markdown",
   "id": "b471d510",
   "metadata": {},
   "source": [
    "<div class=\"admonition note alert alert-info\" style=\"color:#4cb2ff\">\n",
    "In the same way as for normality, without performing a test, we can see that the homogeneity of the variances is not respected.\n",
    "<br><br>   \n",
    "<p><b> WHAT IF HOMOGENEITY OF VARIANCES IS VIOLATED?</b>\n",
    "\n",
    "If there is not equal variances between groups there are a few routes to consider :\n",
    "\n",
    "- Use a non-parametric statistical test\n",
    "- Transform the data\n",
    "</div>"
   ]
  },
  {
   "cell_type": "markdown",
   "id": "189706a8",
   "metadata": {},
   "source": [
    "#### Data transformation"
   ]
  },
  {
   "cell_type": "code",
   "execution_count": null,
   "id": "0c334071",
   "metadata": {},
   "outputs": [],
   "source": [
    "#sample['log_y_child'] = np.log(sample['y_child'])"
   ]
  },
  {
   "cell_type": "code",
   "execution_count": null,
   "id": "42ae00fa",
   "metadata": {},
   "outputs": [],
   "source": [
    "#normality \n",
    "pg.qqplot(df1['log_y_child'], dist='norm', figsize=(15,8));"
   ]
  },
  {
   "cell_type": "code",
   "execution_count": null,
   "id": "42ee8996",
   "metadata": {
    "scrolled": false
   },
   "outputs": [],
   "source": [
    "#homoscedasticity\n",
    "plt.figure(figsize=(25,8))\n",
    "sns.boxplot(data=df1, x='country', y='log_y_child', showfliers=False)\n",
    "plt.xticks([])\n",
    "plt.xlabel('Country');"
   ]
  },
  {
   "cell_type": "markdown",
   "id": "77c3c2aa",
   "metadata": {},
   "source": [
    "#### Conclusion"
   ]
  },
  {
   "cell_type": "markdown",
   "id": "6e50913c",
   "metadata": {},
   "source": [
    "<div class=\"admonition note alert alert-info\" style=\"color:#4cb2ff\">\n",
    "Although the transformation of the data makes it possible to come a little closer to a normal distribution, the homogeneity of the variances is still not respected.\n",
    "<br><br>\n",
    "To continue, we therefore carry out a Kruskal-Wallis test, which is a non-parametric test."
   ]
  },
  {
   "cell_type": "markdown",
   "id": "732d038d",
   "metadata": {},
   "source": [
    "### The Kruskal-Wallis test"
   ]
  },
  {
   "cell_type": "markdown",
   "id": "d5cd5091",
   "metadata": {},
   "source": [
    "$\\left\\{\n",
    "\\begin{array}{l}\n",
    " H_0\\ : \\ \\bar{x}_1 = \\bar{x}_2 = \\bar{x}_k,\\ les\\ deux\\ variables\\ étudiées\\ sont\\ donc\\ indépendantes \\\\\n",
    " H_1\\ : \\ \\bar{x}_1 ≠ \\bar{x}_2 ≠ \\bar{x}_k,\\ les\\ deux\\ variables\\ sont\\ donc\\ dépendantes\n",
    "\\end{array}\n",
    "\\right.$"
   ]
  },
  {
   "cell_type": "markdown",
   "id": "c1442354",
   "metadata": {},
   "source": [
    "<div class=\"admonition note alert alert-info\" style=\"color:#4cb2ff\">\n",
    "<b>NB :</b>\n",
    "The Kruskal-Wallis test concerns the analysis of the medians and not the means\n",
    "</div>"
   ]
  },
  {
   "cell_type": "code",
   "execution_count": null,
   "id": "379d6cf5",
   "metadata": {
    "scrolled": false
   },
   "outputs": [],
   "source": [
    "#α risk \n",
    "α = 0.05\n",
    "\n",
    "#Kruskal-Wallis test\n",
    "krskl = pg.kruskal(data=df1, dv='y_child', between='country')\n",
    "krskl"
   ]
  },
  {
   "cell_type": "markdown",
   "id": "bdf1b8d0",
   "metadata": {},
   "source": [
    "<div class=\"alert alert-block alert-danger\"> ANALYSER LA PERFORMANCE DU MODELE : \n",
    "<br>\n",
    "Comme pval inf 0.05 on trouve qu'il existe une diff significative entre les revenus des pays <br>\n",
    "Est-ce valable ? etc... \n",
    "<br>\n",
    "PEUT ETRE INVERSER LA PRESENTATION ET METTRE LA NORMALITE ET LHOMOSCED ICI \n",
    "<br>\n",
    "CF TP\n",
    "<br>\n",
    "PEUT ETRE CE QUI SUIT PAS NECESSAIRE MAINTENANT </div>"
   ]
  },
  {
   "cell_type": "markdown",
   "id": "d3b0efe1",
   "metadata": {},
   "source": [
    "### For comparison "
   ]
  },
  {
   "cell_type": "markdown",
   "id": "fe2b6b24",
   "metadata": {},
   "source": [
    "<div class=\"admonition note alert alert-info\" style=\"color:#4cb2ff\">\n",
    "<b>\"The more data we have available, the more the ANOVA is able to withstand a significant deviation from the assumptions.\"</b> \n",
    "<br><br>    \n",
    "<a href='http://perso.ens-lyon.fr/lise.vaudor/non-respect-des-hypotheses-du-modele-lineaire-anova-regression-cest-grave-docteur/'> Interesting source about non respect of ANOVA hypothesis</a> \n",
    "</div>"
   ]
  },
  {
   "cell_type": "code",
   "execution_count": null,
   "id": "808bc463",
   "metadata": {},
   "outputs": [],
   "source": [
    "#pg.anova(data=df1, dv='y_child', between='country', detailed=False) #A VOIR SI DF1 OU SAMPLEEEEEEE"
   ]
  },
  {
   "cell_type": "code",
   "execution_count": null,
   "id": "7f757f99",
   "metadata": {},
   "outputs": [],
   "source": [
    "#pg.anova(data=df1, dv='log_y_child', between='country', detailed=False)"
   ]
  },
  {
   "cell_type": "code",
   "execution_count": null,
   "id": "62bba783",
   "metadata": {},
   "outputs": [],
   "source": [
    "#from statsmodels.formula.api import ols\n",
    "\n",
    "#test = ols('y_child ~ C(country)', data=sample).fit()\n",
    "\n",
    "#print(test.summary())\n",
    "\n",
    "#sm.stats.anova_lm(test, typ=2)"
   ]
  },
  {
   "cell_type": "markdown",
   "id": "bd19cf67",
   "metadata": {},
   "source": [
    "## Conclusion"
   ]
  },
  {
   "cell_type": "markdown",
   "id": "1117ef7d",
   "metadata": {},
   "source": [
    "<div class=\"admonition note alert alert-info\" style=\"color:#4cb2ff\">\n",
    "<p>The H and F test statistics both lead to the conclusion that there is a significant difference between the medians (or the means) of the y_childs of the different countries (α = 0.05).</p>\n",
    "\n",
    "<p>Thus, even if the strength of the link between the country of origin and the distribution of income is strong (η2 = 0.49), the explained variance remains low.</p>\n",
    "\n",
    "<p>However, when the ANOVA is performed on the logarithmic transformation of income, the explained variance is much better (η2 = 0.73).</p>\n",
    "</div>"
   ]
  },
  {
   "cell_type": "markdown",
   "id": "2fdc3f6f",
   "metadata": {},
   "source": [
    "## Linear Regression"
   ]
  },
  {
   "cell_type": "markdown",
   "id": "2c4b7abf",
   "metadata": {},
   "source": [
    "<div class=\"alert alert-block alert-warning\">  \n",
    "Pour chacune des régressions suivantes, vous testerez 2 versions : l'une en exprimant le revenu moyen du pays et les revenus (parents & enfants) en logarithme (ln), l'autre en les laissant tels quels. Vous choisirez la version la plus performante pour répondre aux question.                                                   \n",
    "</div>  \n",
    "\n",
    "Appliquez une régression linéaire sur vos données, en incluant comme variables explicatives uniquement le revenu moyen du pays de l’individu et l’indice de Gini du pays de l’individu. Quel est le pourcentage de variance expliquée par votre modèle ?\n",
    "                                                            \n",
    "Selon ce modèle, donnez la décomposition de variance totale expliquée par :\n",
    "                                                            \n",
    "- le pays de naissance (ie. le revenu moyen et l’indice de Gini) ;\n",
    "- les autres facteurs non considérés dans le modèle (efforts, chance, etc.).\n",
    "                                                            \n",
    "Améliorez le modèle précédent en incluant maintenant la classe de revenu des parents. Quel est le pourcentage de variance expliquée par ce nouveau modèle ?\n",
    "                                                            \n",
    "En observant le coefficient de régression associé à l’indice de Gini, peut-on affirmer que le fait de vivre dans un pays plus inégalitaire favorise plus de personnes qu’il n’en défavorise ?\n",
    "                                                            \n",
    "Selon ce dernier modèle, donnez la décomposition de variance totale expliquée par :\n",
    "- le pays de naissance et le revenu des parents\n",
    "- les autres facteurs non considérés dans le modèle (efforts, chance, etc.)."
   ]
  },
  {
   "cell_type": "code",
   "execution_count": null,
   "id": "26bce8f2",
   "metadata": {},
   "outputs": [],
   "source": [
    "#lr1 = pg.linear_regression(df1[['mj', 'Gj']], df1['y_child'])\n",
    "#lr1.round(4)"
   ]
  },
  {
   "cell_type": "code",
   "execution_count": null,
   "id": "310deae5",
   "metadata": {},
   "outputs": [],
   "source": [
    "lr = smf.ols('y_child ~ mj + Gj', data=df1).fit()\n",
    "print(lr.summary())"
   ]
  },
  {
   "cell_type": "markdown",
   "id": "32d48508",
   "metadata": {},
   "source": [
    "<div class=\"admonition note alert alert-info\" style=\"color:#4cb2ff\">\n",
    "Explained model variance = R2 = 50%\n",
    "</div>"
   ]
  },
  {
   "cell_type": "code",
   "execution_count": null,
   "id": "f013a442",
   "metadata": {},
   "outputs": [],
   "source": [
    "def decomposition_of_variances(LRM):\n",
    "    data=sm.stats.anova_lm(LRM, typ=1)\n",
    "    ssq=data[[\"sum_sq\"]]\n",
    "    ssq=np.round(100*ssq/ssq.sum(), 3)\n",
    "    ssq[\"sum_sq\"]=ssq.sum_sq\n",
    "    ssq.columns=[\"Explained Variance (%)\"]\n",
    "    return(ssq)"
   ]
  },
  {
   "cell_type": "code",
   "execution_count": null,
   "id": "63109e39",
   "metadata": {},
   "outputs": [],
   "source": [
    "decomposition_of_variances(lr1)"
   ]
  },
  {
   "cell_type": "code",
   "execution_count": null,
   "id": "aa770ddd",
   "metadata": {},
   "outputs": [],
   "source": [
    "pg.anova(data=df1, dv='y_child', between=['mj', 'Gj'], detailed=False)"
   ]
  },
  {
   "cell_type": "code",
   "execution_count": null,
   "id": "f52e6779",
   "metadata": {},
   "outputs": [],
   "source": [
    "#rl11 = sm.stats.anova_lm(rl1, typ=2)\n",
    "#rl11"
   ]
  },
  {
   "cell_type": "code",
   "execution_count": null,
   "id": "d2120fb9",
   "metadata": {},
   "outputs": [],
   "source": [
    "df1['log_y_child'] = np.log(df1['y_child'])\n",
    "df1['log_mj'] = np.log(df1['mj'])"
   ]
  },
  {
   "cell_type": "code",
   "execution_count": null,
   "id": "e34c3256",
   "metadata": {},
   "outputs": [],
   "source": [
    "lr2 = smf.ols('log_y_child ~ log_mj + Gj', data=df1).fit()\n",
    "print(lr2.summary())"
   ]
  },
  {
   "cell_type": "code",
   "execution_count": null,
   "id": "2aa810d6",
   "metadata": {},
   "outputs": [],
   "source": [
    "decomposition_des_variables(lr2)"
   ]
  },
  {
   "cell_type": "code",
   "execution_count": null,
   "id": "10f8b884",
   "metadata": {},
   "outputs": [],
   "source": [
    "pg.anova(data=df1, dv='log_y_child', between=['log_mj', 'Gj'], detailed=False)"
   ]
  },
  {
   "cell_type": "code",
   "execution_count": null,
   "id": "f2385e80",
   "metadata": {},
   "outputs": [],
   "source": [
    "lr1 = pg.linear_regression(df1[['log_mj', 'Gj']], df1['log_y_child'])\n",
    "lr1"
   ]
  },
  {
   "cell_type": "code",
   "execution_count": null,
   "id": "482cead4",
   "metadata": {},
   "outputs": [],
   "source": [
    "#from statsmodels.formula.api import ols\n",
    "\n",
    "test = ols('log_y_child ~ log_mj + Gj', data=df1).fit()\n",
    "\n",
    "print(test.summary())\n",
    "\n",
    "sm.stats.anova_lm(test, typ=2)"
   ]
  },
  {
   "cell_type": "code",
   "execution_count": null,
   "id": "50e41b54",
   "metadata": {},
   "outputs": [],
   "source": []
  },
  {
   "cell_type": "code",
   "execution_count": null,
   "id": "048e95ef",
   "metadata": {},
   "outputs": [],
   "source": []
  },
  {
   "cell_type": "code",
   "execution_count": null,
   "id": "e9483fec",
   "metadata": {},
   "outputs": [],
   "source": []
  },
  {
   "cell_type": "code",
   "execution_count": null,
   "id": "d5d8567b",
   "metadata": {},
   "outputs": [],
   "source": []
  },
  {
   "cell_type": "code",
   "execution_count": null,
   "id": "146f2d9d",
   "metadata": {},
   "outputs": [],
   "source": [
    "sample['log_p_j'] = np.log(sample['p_j'])\n",
    "sample['log_c_i_parent'] = np.log(sample['c_i_parent'])\n",
    "sample['log_mj'] = np.log(sample['mj'])\n",
    "sample['log_Gj'] = np.log(sample['Gj'])"
   ]
  },
  {
   "cell_type": "code",
   "execution_count": null,
   "id": "04cf2529",
   "metadata": {},
   "outputs": [],
   "source": []
  },
  {
   "cell_type": "code",
   "execution_count": null,
   "id": "63207ca3",
   "metadata": {},
   "outputs": [],
   "source": []
  },
  {
   "cell_type": "code",
   "execution_count": null,
   "id": "d922b243",
   "metadata": {},
   "outputs": [],
   "source": [
    "@Essayer de faire un exemple du modèle, 2 enfants en france maids categ parent diff et pays diff mais categ pareil et regarder l'influence"
   ]
  },
  {
   "cell_type": "code",
   "execution_count": null,
   "id": "ac727519",
   "metadata": {},
   "outputs": [],
   "source": []
  }
 ],
 "metadata": {
  "kernelspec": {
   "display_name": "Python 3 (ipykernel)",
   "language": "python",
   "name": "python3"
  },
  "language_info": {
   "codemirror_mode": {
    "name": "ipython",
    "version": 3
   },
   "file_extension": ".py",
   "mimetype": "text/x-python",
   "name": "python",
   "nbconvert_exporter": "python",
   "pygments_lexer": "ipython3",
   "version": "3.8.12"
  },
  "toc": {
   "base_numbering": 1,
   "nav_menu": {},
   "number_sections": true,
   "sideBar": true,
   "skip_h1_title": false,
   "title_cell": "Table of Contents",
   "title_sidebar": "Contents",
   "toc_cell": false,
   "toc_position": {
    "height": "calc(100% - 180px)",
    "left": "10px",
    "top": "150px",
    "width": "288px"
   },
   "toc_section_display": true,
   "toc_window_display": true
  }
 },
 "nbformat": 4,
 "nbformat_minor": 5
}
